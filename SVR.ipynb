{
 "cells": [
  {
   "cell_type": "code",
   "execution_count": 1,
   "metadata": {},
   "outputs": [],
   "source": [
    "import random \n",
    "random.seed(123)\n",
    "\n",
    "import numpy as np\n",
    "import pandas as pd \n",
    "import matplotlib.pyplot as plt\n",
    "import seaborn\n",
    "from sklearn.model_selection import GridSearchCV\n",
    "from sklearn.preprocessing import StandardScaler\n",
    "from sklearn.linear_model import LinearRegression, Ridge, Lasso, ElasticNet\n",
    "from sklearn.preprocessing import PolynomialFeatures\n",
    "from sklearn.tree import DecisionTreeRegressor\n",
    "from sklearn.svm import SVR\n",
    "import sklearn.metrics as skm\n",
    "from sklearn.model_selection import train_test_split\n",
    "import operator as op\n",
    "import seaborn as sns\n"
   ]
  },
  {
   "cell_type": "code",
   "execution_count": 2,
   "metadata": {},
   "outputs": [
    {
     "name": "stderr",
     "output_type": "stream",
     "text": [
      "/tmp/ipykernel_35670/987010488.py:1: DtypeWarning: Columns (2,3,4,5,6,7) have mixed types. Specify dtype option on import or set low_memory=False.\n",
      "  data = pd.read_csv(\"dataset.txt\",sep=\";\")\n"
     ]
    },
    {
     "data": {
      "text/html": [
       "<div>\n",
       "<style scoped>\n",
       "    .dataframe tbody tr th:only-of-type {\n",
       "        vertical-align: middle;\n",
       "    }\n",
       "\n",
       "    .dataframe tbody tr th {\n",
       "        vertical-align: top;\n",
       "    }\n",
       "\n",
       "    .dataframe thead th {\n",
       "        text-align: right;\n",
       "    }\n",
       "</style>\n",
       "<table border=\"1\" class=\"dataframe\">\n",
       "  <thead>\n",
       "    <tr style=\"text-align: right;\">\n",
       "      <th></th>\n",
       "      <th>Date</th>\n",
       "      <th>Time</th>\n",
       "      <th>Global_active_power</th>\n",
       "      <th>Global_reactive_power</th>\n",
       "      <th>Voltage</th>\n",
       "      <th>Global_intensity</th>\n",
       "      <th>Sub_metering_1</th>\n",
       "      <th>Sub_metering_2</th>\n",
       "      <th>Sub_metering_3</th>\n",
       "    </tr>\n",
       "  </thead>\n",
       "  <tbody>\n",
       "    <tr>\n",
       "      <th>0</th>\n",
       "      <td>16/12/2006</td>\n",
       "      <td>17:24:00</td>\n",
       "      <td>4.216</td>\n",
       "      <td>0.418</td>\n",
       "      <td>234.840</td>\n",
       "      <td>18.400</td>\n",
       "      <td>0.000</td>\n",
       "      <td>1.000</td>\n",
       "      <td>17.0</td>\n",
       "    </tr>\n",
       "    <tr>\n",
       "      <th>1</th>\n",
       "      <td>16/12/2006</td>\n",
       "      <td>17:25:00</td>\n",
       "      <td>5.360</td>\n",
       "      <td>0.436</td>\n",
       "      <td>233.630</td>\n",
       "      <td>23.000</td>\n",
       "      <td>0.000</td>\n",
       "      <td>1.000</td>\n",
       "      <td>16.0</td>\n",
       "    </tr>\n",
       "    <tr>\n",
       "      <th>2</th>\n",
       "      <td>16/12/2006</td>\n",
       "      <td>17:26:00</td>\n",
       "      <td>5.374</td>\n",
       "      <td>0.498</td>\n",
       "      <td>233.290</td>\n",
       "      <td>23.000</td>\n",
       "      <td>0.000</td>\n",
       "      <td>2.000</td>\n",
       "      <td>17.0</td>\n",
       "    </tr>\n",
       "    <tr>\n",
       "      <th>3</th>\n",
       "      <td>16/12/2006</td>\n",
       "      <td>17:27:00</td>\n",
       "      <td>5.388</td>\n",
       "      <td>0.502</td>\n",
       "      <td>233.740</td>\n",
       "      <td>23.000</td>\n",
       "      <td>0.000</td>\n",
       "      <td>1.000</td>\n",
       "      <td>17.0</td>\n",
       "    </tr>\n",
       "    <tr>\n",
       "      <th>4</th>\n",
       "      <td>16/12/2006</td>\n",
       "      <td>17:28:00</td>\n",
       "      <td>3.666</td>\n",
       "      <td>0.528</td>\n",
       "      <td>235.680</td>\n",
       "      <td>15.800</td>\n",
       "      <td>0.000</td>\n",
       "      <td>1.000</td>\n",
       "      <td>17.0</td>\n",
       "    </tr>\n",
       "  </tbody>\n",
       "</table>\n",
       "</div>"
      ],
      "text/plain": [
       "         Date      Time Global_active_power Global_reactive_power  Voltage  \\\n",
       "0  16/12/2006  17:24:00               4.216                 0.418  234.840   \n",
       "1  16/12/2006  17:25:00               5.360                 0.436  233.630   \n",
       "2  16/12/2006  17:26:00               5.374                 0.498  233.290   \n",
       "3  16/12/2006  17:27:00               5.388                 0.502  233.740   \n",
       "4  16/12/2006  17:28:00               3.666                 0.528  235.680   \n",
       "\n",
       "  Global_intensity Sub_metering_1 Sub_metering_2  Sub_metering_3  \n",
       "0           18.400          0.000          1.000            17.0  \n",
       "1           23.000          0.000          1.000            16.0  \n",
       "2           23.000          0.000          2.000            17.0  \n",
       "3           23.000          0.000          1.000            17.0  \n",
       "4           15.800          0.000          1.000            17.0  "
      ]
     },
     "execution_count": 2,
     "metadata": {},
     "output_type": "execute_result"
    }
   ],
   "source": [
    "data = pd.read_csv(\"dataset.txt\",sep=\";\")\n",
    "data.head()"
   ]
  },
  {
   "cell_type": "code",
   "execution_count": 3,
   "metadata": {},
   "outputs": [
    {
     "data": {
      "text/plain": [
       "Date                         0\n",
       "Time                         0\n",
       "Global_active_power          0\n",
       "Global_reactive_power        0\n",
       "Voltage                      0\n",
       "Global_intensity             0\n",
       "Sub_metering_1               0\n",
       "Sub_metering_2               0\n",
       "Sub_metering_3           25979\n",
       "dtype: int64"
      ]
     },
     "execution_count": 3,
     "metadata": {},
     "output_type": "execute_result"
    }
   ],
   "source": [
    "data.isnull().sum()"
   ]
  },
  {
   "cell_type": "code",
   "execution_count": 4,
   "metadata": {},
   "outputs": [],
   "source": [
    "missing = ['Sub_metering_3']\n",
    "for i in missing:\n",
    "    data.loc[data.loc[:,i].isnull(),i]=data.loc[:,i].mean()\n"
   ]
  },
  {
   "cell_type": "code",
   "execution_count": 5,
   "metadata": {},
   "outputs": [
    {
     "data": {
      "text/plain": [
       "Date                     0\n",
       "Time                     0\n",
       "Global_active_power      0\n",
       "Global_reactive_power    0\n",
       "Voltage                  0\n",
       "Global_intensity         0\n",
       "Sub_metering_1           0\n",
       "Sub_metering_2           0\n",
       "Sub_metering_3           0\n",
       "dtype: int64"
      ]
     },
     "execution_count": 5,
     "metadata": {},
     "output_type": "execute_result"
    }
   ],
   "source": [
    "data.isnull().sum()"
   ]
  },
  {
   "cell_type": "code",
   "execution_count": 6,
   "metadata": {},
   "outputs": [],
   "source": [
    "data['Date'] = data['Date'].astype(str)\n",
    "data['Time'] = data['Time'].astype(str)\n",
    "data.replace(['?', 'nan', np.nan], -1, inplace=True) \n",
    "num_col= ['Global_active_power', 'Global_reactive_power', 'Voltage', \n",
    "           'Global_intensity', 'Sub_metering_1', 'Sub_metering_2', 'Sub_metering_3']\n",
    "for i in num_col:\n",
    "    data[i] = pd.to_numeric(data[i])"
   ]
  },
  {
   "cell_type": "code",
   "execution_count": 7,
   "metadata": {},
   "outputs": [],
   "source": [
    "for i in num_col:\n",
    "    mean_ = data.loc[:,i].mean()\n",
    "    data.loc[data.loc[:,i] == -1,i]=mean_"
   ]
  },
  {
   "cell_type": "code",
   "execution_count": 8,
   "metadata": {},
   "outputs": [
    {
     "data": {
      "text/html": [
       "<div>\n",
       "<style scoped>\n",
       "    .dataframe tbody tr th:only-of-type {\n",
       "        vertical-align: middle;\n",
       "    }\n",
       "\n",
       "    .dataframe tbody tr th {\n",
       "        vertical-align: top;\n",
       "    }\n",
       "\n",
       "    .dataframe thead th {\n",
       "        text-align: right;\n",
       "    }\n",
       "</style>\n",
       "<table border=\"1\" class=\"dataframe\">\n",
       "  <thead>\n",
       "    <tr style=\"text-align: right;\">\n",
       "      <th></th>\n",
       "      <th>Date</th>\n",
       "      <th>Time</th>\n",
       "      <th>Global_active_power</th>\n",
       "      <th>Global_reactive_power</th>\n",
       "      <th>Voltage</th>\n",
       "      <th>Global_intensity</th>\n",
       "      <th>Sub_metering_1</th>\n",
       "      <th>Sub_metering_2</th>\n",
       "      <th>Sub_metering_3</th>\n",
       "    </tr>\n",
       "  </thead>\n",
       "  <tbody>\n",
       "    <tr>\n",
       "      <th>0</th>\n",
       "      <td>16/12/2006</td>\n",
       "      <td>17:24:00</td>\n",
       "      <td>4.216</td>\n",
       "      <td>0.418</td>\n",
       "      <td>234.84</td>\n",
       "      <td>18.4</td>\n",
       "      <td>0.0</td>\n",
       "      <td>1.0</td>\n",
       "      <td>17.0</td>\n",
       "    </tr>\n",
       "    <tr>\n",
       "      <th>1</th>\n",
       "      <td>16/12/2006</td>\n",
       "      <td>17:25:00</td>\n",
       "      <td>5.360</td>\n",
       "      <td>0.436</td>\n",
       "      <td>233.63</td>\n",
       "      <td>23.0</td>\n",
       "      <td>0.0</td>\n",
       "      <td>1.0</td>\n",
       "      <td>16.0</td>\n",
       "    </tr>\n",
       "    <tr>\n",
       "      <th>2</th>\n",
       "      <td>16/12/2006</td>\n",
       "      <td>17:26:00</td>\n",
       "      <td>5.374</td>\n",
       "      <td>0.498</td>\n",
       "      <td>233.29</td>\n",
       "      <td>23.0</td>\n",
       "      <td>0.0</td>\n",
       "      <td>2.0</td>\n",
       "      <td>17.0</td>\n",
       "    </tr>\n",
       "    <tr>\n",
       "      <th>3</th>\n",
       "      <td>16/12/2006</td>\n",
       "      <td>17:27:00</td>\n",
       "      <td>5.388</td>\n",
       "      <td>0.502</td>\n",
       "      <td>233.74</td>\n",
       "      <td>23.0</td>\n",
       "      <td>0.0</td>\n",
       "      <td>1.0</td>\n",
       "      <td>17.0</td>\n",
       "    </tr>\n",
       "    <tr>\n",
       "      <th>4</th>\n",
       "      <td>16/12/2006</td>\n",
       "      <td>17:28:00</td>\n",
       "      <td>3.666</td>\n",
       "      <td>0.528</td>\n",
       "      <td>235.68</td>\n",
       "      <td>15.8</td>\n",
       "      <td>0.0</td>\n",
       "      <td>1.0</td>\n",
       "      <td>17.0</td>\n",
       "    </tr>\n",
       "  </tbody>\n",
       "</table>\n",
       "</div>"
      ],
      "text/plain": [
       "         Date      Time  Global_active_power  Global_reactive_power  Voltage  \\\n",
       "0  16/12/2006  17:24:00                4.216                  0.418   234.84   \n",
       "1  16/12/2006  17:25:00                5.360                  0.436   233.63   \n",
       "2  16/12/2006  17:26:00                5.374                  0.498   233.29   \n",
       "3  16/12/2006  17:27:00                5.388                  0.502   233.74   \n",
       "4  16/12/2006  17:28:00                3.666                  0.528   235.68   \n",
       "\n",
       "   Global_intensity  Sub_metering_1  Sub_metering_2  Sub_metering_3  \n",
       "0              18.4             0.0             1.0            17.0  \n",
       "1              23.0             0.0             1.0            16.0  \n",
       "2              23.0             0.0             2.0            17.0  \n",
       "3              23.0             0.0             1.0            17.0  \n",
       "4              15.8             0.0             1.0            17.0  "
      ]
     },
     "execution_count": 8,
     "metadata": {},
     "output_type": "execute_result"
    }
   ],
   "source": [
    "data.head()"
   ]
  },
  {
   "cell_type": "code",
   "execution_count": 9,
   "metadata": {
    "scrolled": true
   },
   "outputs": [
    {
     "name": "stderr",
     "output_type": "stream",
     "text": [
      "/tmp/ipykernel_35670/2627137660.py:1: FutureWarning: The default value of numeric_only in DataFrame.corr is deprecated. In a future version, it will default to False. Select only valid columns or specify the value of numeric_only to silence this warning.\n",
      "  data.corr()\n"
     ]
    },
    {
     "data": {
      "text/html": [
       "<div>\n",
       "<style scoped>\n",
       "    .dataframe tbody tr th:only-of-type {\n",
       "        vertical-align: middle;\n",
       "    }\n",
       "\n",
       "    .dataframe tbody tr th {\n",
       "        vertical-align: top;\n",
       "    }\n",
       "\n",
       "    .dataframe thead th {\n",
       "        text-align: right;\n",
       "    }\n",
       "</style>\n",
       "<table border=\"1\" class=\"dataframe\">\n",
       "  <thead>\n",
       "    <tr style=\"text-align: right;\">\n",
       "      <th></th>\n",
       "      <th>Global_active_power</th>\n",
       "      <th>Global_reactive_power</th>\n",
       "      <th>Voltage</th>\n",
       "      <th>Global_intensity</th>\n",
       "      <th>Sub_metering_1</th>\n",
       "      <th>Sub_metering_2</th>\n",
       "      <th>Sub_metering_3</th>\n",
       "    </tr>\n",
       "  </thead>\n",
       "  <tbody>\n",
       "    <tr>\n",
       "      <th>Global_active_power</th>\n",
       "      <td>1.000000</td>\n",
       "      <td>0.247031</td>\n",
       "      <td>-0.397305</td>\n",
       "      <td>0.998888</td>\n",
       "      <td>0.484401</td>\n",
       "      <td>0.434569</td>\n",
       "      <td>0.638553</td>\n",
       "    </tr>\n",
       "    <tr>\n",
       "      <th>Global_reactive_power</th>\n",
       "      <td>0.247031</td>\n",
       "      <td>1.000000</td>\n",
       "      <td>-0.110175</td>\n",
       "      <td>0.266119</td>\n",
       "      <td>0.123105</td>\n",
       "      <td>0.139225</td>\n",
       "      <td>0.089608</td>\n",
       "    </tr>\n",
       "    <tr>\n",
       "      <th>Voltage</th>\n",
       "      <td>-0.397305</td>\n",
       "      <td>-0.110175</td>\n",
       "      <td>1.000000</td>\n",
       "      <td>-0.408948</td>\n",
       "      <td>-0.194863</td>\n",
       "      <td>-0.166440</td>\n",
       "      <td>-0.266718</td>\n",
       "    </tr>\n",
       "    <tr>\n",
       "      <th>Global_intensity</th>\n",
       "      <td>0.998888</td>\n",
       "      <td>0.266119</td>\n",
       "      <td>-0.408948</td>\n",
       "      <td>1.000000</td>\n",
       "      <td>0.489298</td>\n",
       "      <td>0.440347</td>\n",
       "      <td>0.626542</td>\n",
       "    </tr>\n",
       "    <tr>\n",
       "      <th>Sub_metering_1</th>\n",
       "      <td>0.484401</td>\n",
       "      <td>0.123105</td>\n",
       "      <td>-0.194863</td>\n",
       "      <td>0.489298</td>\n",
       "      <td>1.000000</td>\n",
       "      <td>0.054721</td>\n",
       "      <td>0.102571</td>\n",
       "    </tr>\n",
       "    <tr>\n",
       "      <th>Sub_metering_2</th>\n",
       "      <td>0.434569</td>\n",
       "      <td>0.139225</td>\n",
       "      <td>-0.166440</td>\n",
       "      <td>0.440347</td>\n",
       "      <td>0.054721</td>\n",
       "      <td>1.000000</td>\n",
       "      <td>0.080872</td>\n",
       "    </tr>\n",
       "    <tr>\n",
       "      <th>Sub_metering_3</th>\n",
       "      <td>0.638553</td>\n",
       "      <td>0.089608</td>\n",
       "      <td>-0.266718</td>\n",
       "      <td>0.626542</td>\n",
       "      <td>0.102571</td>\n",
       "      <td>0.080872</td>\n",
       "      <td>1.000000</td>\n",
       "    </tr>\n",
       "  </tbody>\n",
       "</table>\n",
       "</div>"
      ],
      "text/plain": [
       "                       Global_active_power  Global_reactive_power   Voltage  \\\n",
       "Global_active_power               1.000000               0.247031 -0.397305   \n",
       "Global_reactive_power             0.247031               1.000000 -0.110175   \n",
       "Voltage                          -0.397305              -0.110175  1.000000   \n",
       "Global_intensity                  0.998888               0.266119 -0.408948   \n",
       "Sub_metering_1                    0.484401               0.123105 -0.194863   \n",
       "Sub_metering_2                    0.434569               0.139225 -0.166440   \n",
       "Sub_metering_3                    0.638553               0.089608 -0.266718   \n",
       "\n",
       "                       Global_intensity  Sub_metering_1  Sub_metering_2  \\\n",
       "Global_active_power            0.998888        0.484401        0.434569   \n",
       "Global_reactive_power          0.266119        0.123105        0.139225   \n",
       "Voltage                       -0.408948       -0.194863       -0.166440   \n",
       "Global_intensity               1.000000        0.489298        0.440347   \n",
       "Sub_metering_1                 0.489298        1.000000        0.054721   \n",
       "Sub_metering_2                 0.440347        0.054721        1.000000   \n",
       "Sub_metering_3                 0.626542        0.102571        0.080872   \n",
       "\n",
       "                       Sub_metering_3  \n",
       "Global_active_power          0.638553  \n",
       "Global_reactive_power        0.089608  \n",
       "Voltage                     -0.266718  \n",
       "Global_intensity             0.626542  \n",
       "Sub_metering_1               0.102571  \n",
       "Sub_metering_2               0.080872  \n",
       "Sub_metering_3               1.000000  "
      ]
     },
     "execution_count": 9,
     "metadata": {},
     "output_type": "execute_result"
    }
   ],
   "source": [
    "data.corr()"
   ]
  },
  {
   "cell_type": "code",
   "execution_count": 10,
   "metadata": {},
   "outputs": [
    {
     "name": "stderr",
     "output_type": "stream",
     "text": [
      "/tmp/ipykernel_35670/957297215.py:2: UserWarning: Parsing dates in DD/MM/YYYY format when dayfirst=False (the default) was specified. This may lead to inconsistently parsed dates! Specify a format to ensure consistent parsing.\n",
      "  data = data[pd.DatetimeIndex(data['Date']).year > 2006]\n"
     ]
    }
   ],
   "source": [
    "#Dropping data whose year is <2006\n",
    "data = data[pd.DatetimeIndex(data['Date']).year > 2006]"
   ]
  },
  {
   "cell_type": "code",
   "execution_count": 11,
   "metadata": {},
   "outputs": [
    {
     "data": {
      "text/html": [
       "<div>\n",
       "<style scoped>\n",
       "    .dataframe tbody tr th:only-of-type {\n",
       "        vertical-align: middle;\n",
       "    }\n",
       "\n",
       "    .dataframe tbody tr th {\n",
       "        vertical-align: top;\n",
       "    }\n",
       "\n",
       "    .dataframe thead th {\n",
       "        text-align: right;\n",
       "    }\n",
       "</style>\n",
       "<table border=\"1\" class=\"dataframe\">\n",
       "  <thead>\n",
       "    <tr style=\"text-align: right;\">\n",
       "      <th></th>\n",
       "      <th>Date</th>\n",
       "      <th>Time</th>\n",
       "      <th>Global_active_power</th>\n",
       "      <th>Global_reactive_power</th>\n",
       "      <th>Voltage</th>\n",
       "      <th>Global_intensity</th>\n",
       "      <th>Sub_metering_1</th>\n",
       "      <th>Sub_metering_2</th>\n",
       "      <th>Sub_metering_3</th>\n",
       "    </tr>\n",
       "  </thead>\n",
       "  <tbody>\n",
       "    <tr>\n",
       "      <th>21996</th>\n",
       "      <td>1/1/2007</td>\n",
       "      <td>00:00:00</td>\n",
       "      <td>2.580</td>\n",
       "      <td>0.136</td>\n",
       "      <td>241.97</td>\n",
       "      <td>10.6</td>\n",
       "      <td>0.0</td>\n",
       "      <td>0.0</td>\n",
       "      <td>0.0</td>\n",
       "    </tr>\n",
       "    <tr>\n",
       "      <th>21997</th>\n",
       "      <td>1/1/2007</td>\n",
       "      <td>00:01:00</td>\n",
       "      <td>2.552</td>\n",
       "      <td>0.100</td>\n",
       "      <td>241.75</td>\n",
       "      <td>10.4</td>\n",
       "      <td>0.0</td>\n",
       "      <td>0.0</td>\n",
       "      <td>0.0</td>\n",
       "    </tr>\n",
       "    <tr>\n",
       "      <th>21998</th>\n",
       "      <td>1/1/2007</td>\n",
       "      <td>00:02:00</td>\n",
       "      <td>2.550</td>\n",
       "      <td>0.100</td>\n",
       "      <td>241.64</td>\n",
       "      <td>10.4</td>\n",
       "      <td>0.0</td>\n",
       "      <td>0.0</td>\n",
       "      <td>0.0</td>\n",
       "    </tr>\n",
       "    <tr>\n",
       "      <th>21999</th>\n",
       "      <td>1/1/2007</td>\n",
       "      <td>00:03:00</td>\n",
       "      <td>2.550</td>\n",
       "      <td>0.100</td>\n",
       "      <td>241.71</td>\n",
       "      <td>10.4</td>\n",
       "      <td>0.0</td>\n",
       "      <td>0.0</td>\n",
       "      <td>0.0</td>\n",
       "    </tr>\n",
       "    <tr>\n",
       "      <th>22000</th>\n",
       "      <td>1/1/2007</td>\n",
       "      <td>00:04:00</td>\n",
       "      <td>2.554</td>\n",
       "      <td>0.100</td>\n",
       "      <td>241.98</td>\n",
       "      <td>10.4</td>\n",
       "      <td>0.0</td>\n",
       "      <td>0.0</td>\n",
       "      <td>0.0</td>\n",
       "    </tr>\n",
       "  </tbody>\n",
       "</table>\n",
       "</div>"
      ],
      "text/plain": [
       "           Date      Time  Global_active_power  Global_reactive_power  \\\n",
       "21996  1/1/2007  00:00:00                2.580                  0.136   \n",
       "21997  1/1/2007  00:01:00                2.552                  0.100   \n",
       "21998  1/1/2007  00:02:00                2.550                  0.100   \n",
       "21999  1/1/2007  00:03:00                2.550                  0.100   \n",
       "22000  1/1/2007  00:04:00                2.554                  0.100   \n",
       "\n",
       "       Voltage  Global_intensity  Sub_metering_1  Sub_metering_2  \\\n",
       "21996   241.97              10.6             0.0             0.0   \n",
       "21997   241.75              10.4             0.0             0.0   \n",
       "21998   241.64              10.4             0.0             0.0   \n",
       "21999   241.71              10.4             0.0             0.0   \n",
       "22000   241.98              10.4             0.0             0.0   \n",
       "\n",
       "       Sub_metering_3  \n",
       "21996             0.0  \n",
       "21997             0.0  \n",
       "21998             0.0  \n",
       "21999             0.0  \n",
       "22000             0.0  "
      ]
     },
     "execution_count": 11,
     "metadata": {},
     "output_type": "execute_result"
    }
   ],
   "source": [
    "data.head()"
   ]
  },
  {
   "cell_type": "code",
   "execution_count": 12,
   "metadata": {},
   "outputs": [
    {
     "data": {
      "text/html": [
       "<div>\n",
       "<style scoped>\n",
       "    .dataframe tbody tr th:only-of-type {\n",
       "        vertical-align: middle;\n",
       "    }\n",
       "\n",
       "    .dataframe tbody tr th {\n",
       "        vertical-align: top;\n",
       "    }\n",
       "\n",
       "    .dataframe thead th {\n",
       "        text-align: right;\n",
       "    }\n",
       "</style>\n",
       "<table border=\"1\" class=\"dataframe\">\n",
       "  <thead>\n",
       "    <tr style=\"text-align: right;\">\n",
       "      <th></th>\n",
       "      <th>Date</th>\n",
       "      <th>Time</th>\n",
       "      <th>Global_active_power</th>\n",
       "      <th>Global_reactive_power</th>\n",
       "      <th>Voltage</th>\n",
       "      <th>Global_intensity</th>\n",
       "      <th>Sub_metering_1</th>\n",
       "      <th>Sub_metering_2</th>\n",
       "      <th>Sub_metering_3</th>\n",
       "    </tr>\n",
       "  </thead>\n",
       "  <tbody>\n",
       "    <tr>\n",
       "      <th>21996</th>\n",
       "      <td>1/1/2007</td>\n",
       "      <td>00:00:00</td>\n",
       "      <td>2.580</td>\n",
       "      <td>0.136</td>\n",
       "      <td>241.97</td>\n",
       "      <td>10.6</td>\n",
       "      <td>0.0</td>\n",
       "      <td>0.0</td>\n",
       "      <td>0.0</td>\n",
       "    </tr>\n",
       "    <tr>\n",
       "      <th>21997</th>\n",
       "      <td>1/1/2007</td>\n",
       "      <td>00:01:00</td>\n",
       "      <td>2.552</td>\n",
       "      <td>0.100</td>\n",
       "      <td>241.75</td>\n",
       "      <td>10.4</td>\n",
       "      <td>0.0</td>\n",
       "      <td>0.0</td>\n",
       "      <td>0.0</td>\n",
       "    </tr>\n",
       "    <tr>\n",
       "      <th>21998</th>\n",
       "      <td>1/1/2007</td>\n",
       "      <td>00:02:00</td>\n",
       "      <td>2.550</td>\n",
       "      <td>0.100</td>\n",
       "      <td>241.64</td>\n",
       "      <td>10.4</td>\n",
       "      <td>0.0</td>\n",
       "      <td>0.0</td>\n",
       "      <td>0.0</td>\n",
       "    </tr>\n",
       "    <tr>\n",
       "      <th>21999</th>\n",
       "      <td>1/1/2007</td>\n",
       "      <td>00:03:00</td>\n",
       "      <td>2.550</td>\n",
       "      <td>0.100</td>\n",
       "      <td>241.71</td>\n",
       "      <td>10.4</td>\n",
       "      <td>0.0</td>\n",
       "      <td>0.0</td>\n",
       "      <td>0.0</td>\n",
       "    </tr>\n",
       "    <tr>\n",
       "      <th>22000</th>\n",
       "      <td>1/1/2007</td>\n",
       "      <td>00:04:00</td>\n",
       "      <td>2.554</td>\n",
       "      <td>0.100</td>\n",
       "      <td>241.98</td>\n",
       "      <td>10.4</td>\n",
       "      <td>0.0</td>\n",
       "      <td>0.0</td>\n",
       "      <td>0.0</td>\n",
       "    </tr>\n",
       "  </tbody>\n",
       "</table>\n",
       "</div>"
      ],
      "text/plain": [
       "           Date      Time  Global_active_power  Global_reactive_power  \\\n",
       "21996  1/1/2007  00:00:00                2.580                  0.136   \n",
       "21997  1/1/2007  00:01:00                2.552                  0.100   \n",
       "21998  1/1/2007  00:02:00                2.550                  0.100   \n",
       "21999  1/1/2007  00:03:00                2.550                  0.100   \n",
       "22000  1/1/2007  00:04:00                2.554                  0.100   \n",
       "\n",
       "       Voltage  Global_intensity  Sub_metering_1  Sub_metering_2  \\\n",
       "21996   241.97              10.6             0.0             0.0   \n",
       "21997   241.75              10.4             0.0             0.0   \n",
       "21998   241.64              10.4             0.0             0.0   \n",
       "21999   241.71              10.4             0.0             0.0   \n",
       "22000   241.98              10.4             0.0             0.0   \n",
       "\n",
       "       Sub_metering_3  \n",
       "21996             0.0  \n",
       "21997             0.0  \n",
       "21998             0.0  \n",
       "21999             0.0  \n",
       "22000             0.0  "
      ]
     },
     "execution_count": 12,
     "metadata": {},
     "output_type": "execute_result"
    }
   ],
   "source": [
    "models = {}\n",
    "df1 = data\n",
    "df1.head()"
   ]
  },
  {
   "cell_type": "markdown",
   "metadata": {},
   "source": [
    "# Data Preprocessing"
   ]
  },
  {
   "cell_type": "code",
   "execution_count": 13,
   "metadata": {},
   "outputs": [],
   "source": [
    "def preprocess(filename):\n",
    "\n",
    "    data = pd.read_csv(filename, sep=';', parse_dates={'Datetime': ['Date', 'Time']}, infer_datetime_format=True, header=1,\n",
    "                       names=['Date',\n",
    "                              'Time',\n",
    "                              'Active_Power',\n",
    "                              'Reactive_Power',\n",
    "                              'Voltage',\n",
    "                              'Current',\n",
    "                              'Meter_1',\n",
    "                              'Meter_2',\n",
    "                              'Meter_3'])\n",
    "\n",
    "    # Cleans up data by removing null values with mean and dropping extra columns\n",
    "    # Needed to save space\n",
    "#     data = data.drop(columns=['Reactive_Power', 'Voltage', 'Current'])\n",
    "\n",
    "    data['Active_Power'] = pd.to_numeric(data['Active_Power'], errors='coerce')\n",
    "    data['Meter_1'] = pd.to_numeric(data['Meter_1'], errors='coerce')\n",
    "    data['Meter_2'] = pd.to_numeric(data['Meter_2'], errors='coerce')\n",
    "    data['Meter_3'] = pd.to_numeric(data['Meter_3'], errors='coerce')\n",
    "    data['Voltage'] = pd.to_numeric(data['Voltage'], errors='coerce')\n",
    "    data['Current'] = pd.to_numeric(data['Current'], errors='coerce')\n",
    "\n",
    "    data['Active_Power'].fillna(data['Active_Power'].mean(), inplace=True)\n",
    "    data['Meter_1'].fillna(data['Meter_1'].mean(), inplace=True)\n",
    "    data['Meter_2'].fillna(data['Meter_2'].mean(), inplace=True)\n",
    "    data['Meter_3'].fillna(data['Meter_3'].mean(), inplace=True)\n",
    "    data['Voltage'].fillna(data['Voltage'].mean(), inplace=True)\n",
    "    data['Current'].fillna(data['Current'].mean(), inplace=True)\n",
    "    \n",
    "    \n",
    "\n",
    "    # Aggregate Power over an hour duration\n",
    "    data.set_index('Datetime', inplace=True)\n",
    "    data = data.resample('h').mean()\n",
    "\n",
    "    # Split Datetime Column\n",
    "    data['Year'] = data.index.year\n",
    "    data['Month'] = data.index.month\n",
    "    data['Day'] = data.index.day\n",
    "    data['Hour'] = data.index.hour\n",
    "\n",
    "    data.reset_index(inplace=True)\n",
    "    data.drop(columns='Datetime', inplace=True)\n",
    "\n",
    "    return data"
   ]
  },
  {
   "cell_type": "code",
   "execution_count": 14,
   "metadata": {},
   "outputs": [
    {
     "name": "stderr",
     "output_type": "stream",
     "text": [
      "/tmp/ipykernel_35670/4189718733.py:3: DtypeWarning: Columns (2,3,4,5,6,7) have mixed types. Specify dtype option on import or set low_memory=False.\n",
      "  data = pd.read_csv(filename, sep=';', parse_dates={'Datetime': ['Date', 'Time']}, infer_datetime_format=True, header=1,\n",
      "/tmp/ipykernel_35670/4189718733.py:36: FutureWarning: The default value of numeric_only in DataFrameGroupBy.mean is deprecated. In a future version, numeric_only will default to False. Either specify numeric_only or select only columns which should be valid for the function.\n",
      "  data = data.resample('h').mean()\n"
     ]
    }
   ],
   "source": [
    "dataset = \"./dataset.txt\"\n",
    "data = preprocess(dataset)"
   ]
  },
  {
   "cell_type": "code",
   "execution_count": 15,
   "metadata": {},
   "outputs": [],
   "source": [
    "x = data.drop('Active_Power',axis=1)\n",
    "y = data['Active_Power']"
   ]
  },
  {
   "cell_type": "code",
   "execution_count": 16,
   "metadata": {},
   "outputs": [],
   "source": [
    "X_train, X_test, Y_train, Y_test = train_test_split(x, y, train_size = 0.7, random_state = 10)"
   ]
  },
  {
   "cell_type": "markdown",
   "metadata": {},
   "source": [
    "# Linear Regression"
   ]
  },
  {
   "cell_type": "code",
   "execution_count": 17,
   "metadata": {},
   "outputs": [],
   "source": [
    "def prediction(X_train,Y_train,X_test,Y_test):\n",
    "    lin_reg = LinearRegression()\n",
    "    lin_reg.fit(X_train,Y_train)\n",
    "    pred = lin_reg.predict(X_test)\n",
    "    rmse = skm.mean_squared_error(Y_test,pred,squared=False)\n",
    "    r2 = skm.r2_score(Y_test,pred)\n",
    "    return [rmse,r2]"
   ]
  },
  {
   "cell_type": "code",
   "execution_count": 18,
   "metadata": {},
   "outputs": [],
   "source": [
    "models[\"linear regression\"] = prediction(X_train,Y_train,X_test,Y_test)"
   ]
  },
  {
   "cell_type": "markdown",
   "metadata": {},
   "source": [
    "# Linear Regression With Ridge"
   ]
  },
  {
   "cell_type": "code",
   "execution_count": 19,
   "metadata": {},
   "outputs": [],
   "source": [
    "def ridge_pred(X_train,Y_train,X_test,Y_test):\n",
    "    ridge_reg = Ridge(alpha=0.001,normalize=True)\n",
    "    ridge_reg.fit(X_train,Y_train)\n",
    "    pred = ridge_reg.predict(X_test)\n",
    "    rmse = skm.mean_squared_error(Y_test,pred,squared=False)\n",
    "    r2 = skm.r2_score(Y_test,pred)\n",
    "    return [rmse,r2]"
   ]
  },
  {
   "cell_type": "code",
   "execution_count": 20,
   "metadata": {},
   "outputs": [
    {
     "name": "stderr",
     "output_type": "stream",
     "text": [
      "/home/kira/.local/lib/python3.10/site-packages/sklearn/linear_model/_base.py:141: FutureWarning: 'normalize' was deprecated in version 1.0 and will be removed in 1.2.\n",
      "If you wish to scale the data, use Pipeline with a StandardScaler in a preprocessing stage. To reproduce the previous behavior:\n",
      "\n",
      "from sklearn.pipeline import make_pipeline\n",
      "\n",
      "model = make_pipeline(StandardScaler(with_mean=False), Ridge())\n",
      "\n",
      "If you wish to pass a sample_weight parameter, you need to pass it as a fit parameter to each step of the pipeline as follows:\n",
      "\n",
      "kwargs = {s[0] + '__sample_weight': sample_weight for s in model.steps}\n",
      "model.fit(X, y, **kwargs)\n",
      "\n",
      "Set parameter alpha to: original_alpha * n_samples. \n",
      "  warnings.warn(\n"
     ]
    }
   ],
   "source": [
    "models[\"Ridge Regression\"] = ridge_pred(X_train,Y_train,X_test,Y_test)"
   ]
  },
  {
   "cell_type": "markdown",
   "metadata": {},
   "source": [
    "# Linear Regression With Lasso"
   ]
  },
  {
   "cell_type": "code",
   "execution_count": 21,
   "metadata": {},
   "outputs": [],
   "source": [
    "def lasso_pred(X_train,Y_train,X_test,Y_test):\n",
    "    lasso_reg = Lasso(alpha=0.1)\n",
    "    lasso_reg.fit(X_train,Y_train)\n",
    "    pred = lasso_reg.predict(X_test)\n",
    "    rmse = skm.mean_squared_error(Y_test,pred,squared=False)\n",
    "    r2 = skm.r2_score(Y_test,pred)\n",
    "    return [rmse,r2]"
   ]
  },
  {
   "cell_type": "code",
   "execution_count": 22,
   "metadata": {},
   "outputs": [],
   "source": [
    "models[\"Lasso regression\"] = lasso_pred(X_train,Y_train,X_test,Y_test)"
   ]
  },
  {
   "cell_type": "code",
   "execution_count": 23,
   "metadata": {
    "scrolled": false
   },
   "outputs": [
    {
     "data": {
      "text/html": [
       "<div>\n",
       "<style scoped>\n",
       "    .dataframe tbody tr th:only-of-type {\n",
       "        vertical-align: middle;\n",
       "    }\n",
       "\n",
       "    .dataframe tbody tr th {\n",
       "        vertical-align: top;\n",
       "    }\n",
       "\n",
       "    .dataframe thead th {\n",
       "        text-align: right;\n",
       "    }\n",
       "</style>\n",
       "<table border=\"1\" class=\"dataframe\">\n",
       "  <thead>\n",
       "    <tr style=\"text-align: right;\">\n",
       "      <th></th>\n",
       "      <th>Rmse</th>\n",
       "      <th>R_sq</th>\n",
       "    </tr>\n",
       "  </thead>\n",
       "  <tbody>\n",
       "    <tr>\n",
       "      <th>linear regression</th>\n",
       "      <td>0.023466</td>\n",
       "      <td>0.999288</td>\n",
       "    </tr>\n",
       "    <tr>\n",
       "      <th>Ridge Regression</th>\n",
       "      <td>0.023523</td>\n",
       "      <td>0.999285</td>\n",
       "    </tr>\n",
       "    <tr>\n",
       "      <th>Lasso regression</th>\n",
       "      <td>0.038635</td>\n",
       "      <td>0.998071</td>\n",
       "    </tr>\n",
       "  </tbody>\n",
       "</table>\n",
       "</div>"
      ],
      "text/plain": [
       "                       Rmse      R_sq\n",
       "linear regression  0.023466  0.999288\n",
       "Ridge Regression   0.023523  0.999285\n",
       "Lasso regression   0.038635  0.998071"
      ]
     },
     "execution_count": 23,
     "metadata": {},
     "output_type": "execute_result"
    }
   ],
   "source": [
    "models_df = pd.DataFrame.from_dict(models,orient='index',columns=['Rmse','R_sq'])\n",
    "models_df"
   ]
  },
  {
   "cell_type": "markdown",
   "metadata": {},
   "source": [
    "# SVR"
   ]
  },
  {
   "cell_type": "code",
   "execution_count": 48,
   "metadata": {},
   "outputs": [],
   "source": [
    "def svr(X_train,Y_train,X_test,ker):\n",
    "    #C=5,gamma=0.0009 1.719\n",
    "    reg=SVR(kernel=ker,C=0.1,gamma=0.00001)\n",
    "    reg.fit(X_train,Y_train)\n",
    "    return np.asarray(reg.predict(X_test)).reshape(-1,1)"
   ]
  },
  {
   "cell_type": "code",
   "execution_count": 49,
   "metadata": {},
   "outputs": [
    {
     "name": "stderr",
     "output_type": "stream",
     "text": [
      "/home/kira/.local/lib/python3.10/site-packages/sklearn/utils/validation.py:1111: DataConversionWarning: A column-vector y was passed when a 1d array was expected. Please change the shape of y to (n_samples, ), for example using ravel().\n",
      "  y = column_or_1d(y, warn=True)\n"
     ]
    },
    {
     "name": "stdout",
     "output_type": "stream",
     "text": [
      "rmse for svr: 0.8396008156024696\n",
      "r2 error for svr: 0.08886010045250481\n"
     ]
    }
   ],
   "source": [
    "sc_X = StandardScaler()\n",
    "sc_Y = StandardScaler()\n",
    "X = sc_X.fit_transform(X_train)\n",
    "Y = sc_Y.fit_transform(np.asarray(Y_train).reshape(-1,1))\n",
    "X_test =sc_X.fit_transform(X_test)\n",
    "\n",
    "Y_pred=svr(X,Y,X_test,'rbf')\n",
    "Y_pred=sc_Y.inverse_transform(Y_pred)\n",
    "rmse = skm.mean_squared_error(Y_test,Y_pred,squared=False)\n",
    "r2 = skm.r2_score(Y_test,Y_pred)\n",
    "print(\"rmse for svr: \"+str(rmse))\n",
    "print(\"r2 error for svr: \"+str(r2))\n",
    "\n",
    "# Y_pred=sc_Y.inverse_transform(svr(X,Y,X_test,'linear'))\n",
    "# rmse = skm.mean_squared_error(y_test,y_pred,squared=False)\n",
    "# r2 = skm.r2_score(y_test,y_pred)\n",
    "# print(\"rmse for svr: \"+str(rmse))\n",
    "# print(\"r2 error for svr: \"+str(r2))"
   ]
  },
  {
   "cell_type": "code",
   "execution_count": 50,
   "metadata": {},
   "outputs": [
    {
     "name": "stderr",
     "output_type": "stream",
     "text": [
      "/home/kira/.local/lib/python3.10/site-packages/sklearn/utils/validation.py:1111: DataConversionWarning: A column-vector y was passed when a 1d array was expected. Please change the shape of y to (n_samples, ), for example using ravel().\n",
      "  y = column_or_1d(y, warn=True)\n"
     ]
    },
    {
     "name": "stdout",
     "output_type": "stream",
     "text": [
      "rmse for svr: 0.03183179210797186\n",
      "r2 error for svr: 0.9986903310201646\n"
     ]
    }
   ],
   "source": [
    "Y_pred=svr(X,Y,X_test,'linear')\n",
    "Y_pred=sc_Y.inverse_transform(Y_pred)\n",
    "rmse = skm.mean_squared_error(Y_test,Y_pred,squared=False)\n",
    "r2 = skm.r2_score(Y_test,Y_pred)\n",
    "print(\"rmse for svr: \"+str(rmse))\n",
    "print(\"r2 error for svr: \"+str(r2))"
   ]
  },
  {
   "cell_type": "markdown",
   "metadata": {},
   "source": [
    "# Grid Search {'C': 1.5, 'epsilon': 0.1, 'gamma': 1e-07, 'kernel': 'linear'}"
   ]
  },
  {
   "cell_type": "code",
   "execution_count": 27,
   "metadata": {
    "scrolled": true
   },
   "outputs": [],
   "source": [
    "# parameters = {'kernel': ('linear', 'rbf'), 'C':[2e-6,2e-5,2e-4,2e-3,2e-2,2e-1,0,2e1,2e2,2e3],'gamma': [2e-6,2e-5,2e-4,2e-3,2e-2,2e-1,0,2e1,2e2,2e3,2e4,2e5],'epsilon':np.linspace(0.001, 10,20)}\n",
    "# svr = SVR()\n",
    "# clf = GridSearchCV(svr, parameters)\n",
    "# clf.fit(X,Y)\n",
    "# clf.best_params_"
   ]
  },
  {
   "cell_type": "code",
   "execution_count": 28,
   "metadata": {},
   "outputs": [
    {
     "ename": "NameError",
     "evalue": "name 'clf' is not defined",
     "output_type": "error",
     "traceback": [
      "\u001b[0;31m---------------------------------------------------------------------------\u001b[0m",
      "\u001b[0;31mNameError\u001b[0m                                 Traceback (most recent call last)",
      "Cell \u001b[0;32mIn [28], line 1\u001b[0m\n\u001b[0;32m----> 1\u001b[0m \u001b[43mclf\u001b[49m\u001b[38;5;241m.\u001b[39mbest_params_\n",
      "\u001b[0;31mNameError\u001b[0m: name 'clf' is not defined"
     ]
    }
   ],
   "source": [
    "clf.best_params_"
   ]
  },
  {
   "cell_type": "code",
   "execution_count": null,
   "metadata": {},
   "outputs": [],
   "source": []
  }
 ],
 "metadata": {
  "kernelspec": {
   "display_name": "Python 3 (ipykernel)",
   "language": "python",
   "name": "python3"
  },
  "language_info": {
   "codemirror_mode": {
    "name": "ipython",
    "version": 3
   },
   "file_extension": ".py",
   "mimetype": "text/x-python",
   "name": "python",
   "nbconvert_exporter": "python",
   "pygments_lexer": "ipython3",
   "version": "3.10.6"
  }
 },
 "nbformat": 4,
 "nbformat_minor": 2
}
