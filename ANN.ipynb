{
 "cells": [
  {
   "cell_type": "code",
   "execution_count": 1,
   "id": "e0de6111",
   "metadata": {
    "scrolled": false
   },
   "outputs": [
    {
     "name": "stdout",
     "output_type": "stream",
     "text": [
      "Requirement already satisfied: tensorflow in c:\\users\\hemanth\\anaconda3\\lib\\site-packages (2.10.0)\n",
      "Requirement already satisfied: tensorboard<2.11,>=2.10 in c:\\users\\hemanth\\anaconda3\\lib\\site-packages (from tensorflow) (2.10.1)\n",
      "Requirement already satisfied: keras-preprocessing>=1.1.1 in c:\\users\\hemanth\\anaconda3\\lib\\site-packages (from tensorflow) (1.1.2)\n",
      "Requirement already satisfied: astunparse>=1.6.0 in c:\\users\\hemanth\\anaconda3\\lib\\site-packages (from tensorflow) (1.6.3)\n",
      "Requirement already satisfied: packaging in c:\\users\\hemanth\\anaconda3\\lib\\site-packages (from tensorflow) (21.3)\n",
      "Requirement already satisfied: h5py>=2.9.0 in c:\\users\\hemanth\\anaconda3\\lib\\site-packages (from tensorflow) (3.6.0)\n",
      "Requirement already satisfied: numpy>=1.20 in c:\\users\\hemanth\\anaconda3\\lib\\site-packages (from tensorflow) (1.21.5)\n",
      "Requirement already satisfied: flatbuffers>=2.0 in c:\\users\\hemanth\\anaconda3\\lib\\site-packages (from tensorflow) (22.9.24)\n",
      "Requirement already satisfied: grpcio<2.0,>=1.24.3 in c:\\users\\hemanth\\anaconda3\\lib\\site-packages (from tensorflow) (1.42.0)\n",
      "Requirement already satisfied: google-pasta>=0.1.1 in c:\\users\\hemanth\\anaconda3\\lib\\site-packages (from tensorflow) (0.2.0)\n",
      "Requirement already satisfied: keras<2.11,>=2.10.0 in c:\\users\\hemanth\\anaconda3\\lib\\site-packages (from tensorflow) (2.10.0)\n",
      "Requirement already satisfied: wrapt>=1.11.0 in c:\\users\\hemanth\\anaconda3\\lib\\site-packages (from tensorflow) (1.12.1)\n",
      "Requirement already satisfied: tensorflow-estimator<2.11,>=2.10.0 in c:\\users\\hemanth\\anaconda3\\lib\\site-packages (from tensorflow) (2.10.0)\n",
      "Requirement already satisfied: libclang>=13.0.0 in c:\\users\\hemanth\\anaconda3\\lib\\site-packages (from tensorflow) (14.0.6)\n",
      "Requirement already satisfied: opt-einsum>=2.3.2 in c:\\users\\hemanth\\anaconda3\\lib\\site-packages (from tensorflow) (3.3.0)\n",
      "Requirement already satisfied: typing-extensions>=3.6.6 in c:\\users\\hemanth\\anaconda3\\lib\\site-packages (from tensorflow) (4.1.1)\n",
      "Requirement already satisfied: absl-py>=1.0.0 in c:\\users\\hemanth\\anaconda3\\lib\\site-packages (from tensorflow) (1.3.0)\n",
      "Requirement already satisfied: protobuf<3.20,>=3.9.2 in c:\\users\\hemanth\\anaconda3\\lib\\site-packages (from tensorflow) (3.19.1)\n",
      "Requirement already satisfied: setuptools in c:\\users\\hemanth\\anaconda3\\lib\\site-packages (from tensorflow) (61.2.0)\n",
      "Requirement already satisfied: termcolor>=1.1.0 in c:\\users\\hemanth\\anaconda3\\lib\\site-packages (from tensorflow) (2.0.1)\n",
      "Requirement already satisfied: gast<=0.4.0,>=0.2.1 in c:\\users\\hemanth\\anaconda3\\lib\\site-packages (from tensorflow) (0.4.0)\n",
      "Requirement already satisfied: six>=1.12.0 in c:\\users\\hemanth\\anaconda3\\lib\\site-packages (from tensorflow) (1.16.0)\n",
      "Requirement already satisfied: tensorflow-io-gcs-filesystem>=0.23.1 in c:\\users\\hemanth\\anaconda3\\lib\\site-packages (from tensorflow) (0.27.0)\n",
      "Requirement already satisfied: wheel<1.0,>=0.23.0 in c:\\users\\hemanth\\anaconda3\\lib\\site-packages (from astunparse>=1.6.0->tensorflow) (0.37.1)\n",
      "Requirement already satisfied: requests<3,>=2.21.0 in c:\\users\\hemanth\\anaconda3\\lib\\site-packages (from tensorboard<2.11,>=2.10->tensorflow) (2.27.1)\n",
      "Requirement already satisfied: tensorboard-data-server<0.7.0,>=0.6.0 in c:\\users\\hemanth\\anaconda3\\lib\\site-packages (from tensorboard<2.11,>=2.10->tensorflow) (0.6.1)\n",
      "Requirement already satisfied: markdown>=2.6.8 in c:\\users\\hemanth\\anaconda3\\lib\\site-packages (from tensorboard<2.11,>=2.10->tensorflow) (3.3.4)\n",
      "Requirement already satisfied: werkzeug>=1.0.1 in c:\\users\\hemanth\\anaconda3\\lib\\site-packages (from tensorboard<2.11,>=2.10->tensorflow) (2.0.3)\n",
      "Requirement already satisfied: google-auth<3,>=1.6.3 in c:\\users\\hemanth\\anaconda3\\lib\\site-packages (from tensorboard<2.11,>=2.10->tensorflow) (1.33.0)\n",
      "Requirement already satisfied: google-auth-oauthlib<0.5,>=0.4.1 in c:\\users\\hemanth\\anaconda3\\lib\\site-packages (from tensorboard<2.11,>=2.10->tensorflow) (0.4.6)\n",
      "Requirement already satisfied: tensorboard-plugin-wit>=1.6.0 in c:\\users\\hemanth\\anaconda3\\lib\\site-packages (from tensorboard<2.11,>=2.10->tensorflow) (1.8.1)\n",
      "Requirement already satisfied: pyasn1-modules>=0.2.1 in c:\\users\\hemanth\\anaconda3\\lib\\site-packages (from google-auth<3,>=1.6.3->tensorboard<2.11,>=2.10->tensorflow) (0.2.8)\n",
      "Requirement already satisfied: rsa<5,>=3.1.4 in c:\\users\\hemanth\\anaconda3\\lib\\site-packages (from google-auth<3,>=1.6.3->tensorboard<2.11,>=2.10->tensorflow) (4.7.2)\n",
      "Requirement already satisfied: cachetools<5.0,>=2.0.0 in c:\\users\\hemanth\\anaconda3\\lib\\site-packages (from google-auth<3,>=1.6.3->tensorboard<2.11,>=2.10->tensorflow) (4.2.2)\n",
      "Requirement already satisfied: requests-oauthlib>=0.7.0 in c:\\users\\hemanth\\anaconda3\\lib\\site-packages (from google-auth-oauthlib<0.5,>=0.4.1->tensorboard<2.11,>=2.10->tensorflow) (1.3.1)\n",
      "Requirement already satisfied: pyasn1<0.5.0,>=0.4.6 in c:\\users\\hemanth\\anaconda3\\lib\\site-packages (from pyasn1-modules>=0.2.1->google-auth<3,>=1.6.3->tensorboard<2.11,>=2.10->tensorflow) (0.4.8)\n",
      "Requirement already satisfied: idna<4,>=2.5 in c:\\users\\hemanth\\anaconda3\\lib\\site-packages (from requests<3,>=2.21.0->tensorboard<2.11,>=2.10->tensorflow) (3.3)\n",
      "Requirement already satisfied: urllib3<1.27,>=1.21.1 in c:\\users\\hemanth\\anaconda3\\lib\\site-packages (from requests<3,>=2.21.0->tensorboard<2.11,>=2.10->tensorflow) (1.26.9)\n",
      "Requirement already satisfied: charset-normalizer~=2.0.0 in c:\\users\\hemanth\\anaconda3\\lib\\site-packages (from requests<3,>=2.21.0->tensorboard<2.11,>=2.10->tensorflow) (2.0.4)\n",
      "Requirement already satisfied: certifi>=2017.4.17 in c:\\users\\hemanth\\anaconda3\\lib\\site-packages (from requests<3,>=2.21.0->tensorboard<2.11,>=2.10->tensorflow) (2021.10.8)\n",
      "Requirement already satisfied: oauthlib>=3.0.0 in c:\\users\\hemanth\\anaconda3\\lib\\site-packages (from requests-oauthlib>=0.7.0->google-auth-oauthlib<0.5,>=0.4.1->tensorboard<2.11,>=2.10->tensorflow) (3.2.2)\n",
      "Requirement already satisfied: pyparsing!=3.0.5,>=2.0.2 in c:\\users\\hemanth\\anaconda3\\lib\\site-packages (from packaging->tensorflow) (3.0.4)\n"
     ]
    }
   ],
   "source": [
    "!pip install tensorflow"
   ]
  },
  {
   "cell_type": "code",
   "execution_count": 4,
   "id": "3434e8ab",
   "metadata": {},
   "outputs": [],
   "source": [
    "import random \n",
    "random.seed(123)\n",
    "from math import *\n",
    "import numpy as np\n",
    "import pandas as pd \n",
    "import matplotlib.pyplot as plt\n",
    "import seaborn as sns\n",
    "import math\n",
    "\n",
    "from sklearn.linear_model import LinearRegression, Ridge, Lasso, ElasticNet\n",
    "from sklearn.svm import SVR\n",
    "from sklearn.preprocessing import PolynomialFeatures,MinMaxScaler\n",
    "from sklearn.tree import DecisionTreeRegressor\n",
    "from sklearn.svm import SVR\n",
    "import sklearn.metrics as skm\n",
    "from sklearn.model_selection import train_test_split \n",
    "from sklearn.model_selection import train_test_split\n",
    "import operator as op"
   ]
  },
  {
   "cell_type": "code",
   "execution_count": 5,
   "id": "c11f0661",
   "metadata": {},
   "outputs": [],
   "source": [
    "import tensorflow as tf\n",
    "from tensorflow.keras.layers import Dense, Dropout, BatchNormalization\n",
    "from tensorflow.keras.models import Sequential\n"
   ]
  },
  {
   "cell_type": "code",
   "execution_count": 6,
   "id": "37f7a982",
   "metadata": {},
   "outputs": [
    {
     "name": "stderr",
     "output_type": "stream",
     "text": [
      "C:\\Users\\Hemanth\\AppData\\Local\\Temp\\ipykernel_15236\\987010488.py:1: DtypeWarning: Columns (2,3,4,5,6,7) have mixed types. Specify dtype option on import or set low_memory=False.\n",
      "  data = pd.read_csv(\"dataset.txt\",sep=\";\")\n"
     ]
    },
    {
     "data": {
      "text/html": [
       "<div>\n",
       "<style scoped>\n",
       "    .dataframe tbody tr th:only-of-type {\n",
       "        vertical-align: middle;\n",
       "    }\n",
       "\n",
       "    .dataframe tbody tr th {\n",
       "        vertical-align: top;\n",
       "    }\n",
       "\n",
       "    .dataframe thead th {\n",
       "        text-align: right;\n",
       "    }\n",
       "</style>\n",
       "<table border=\"1\" class=\"dataframe\">\n",
       "  <thead>\n",
       "    <tr style=\"text-align: right;\">\n",
       "      <th></th>\n",
       "      <th>Date</th>\n",
       "      <th>Time</th>\n",
       "      <th>Global_active_power</th>\n",
       "      <th>Global_reactive_power</th>\n",
       "      <th>Voltage</th>\n",
       "      <th>Global_intensity</th>\n",
       "      <th>Sub_metering_1</th>\n",
       "      <th>Sub_metering_2</th>\n",
       "      <th>Sub_metering_3</th>\n",
       "    </tr>\n",
       "  </thead>\n",
       "  <tbody>\n",
       "    <tr>\n",
       "      <th>0</th>\n",
       "      <td>16/12/2006</td>\n",
       "      <td>17:24:00</td>\n",
       "      <td>4.216</td>\n",
       "      <td>0.418</td>\n",
       "      <td>234.840</td>\n",
       "      <td>18.400</td>\n",
       "      <td>0.000</td>\n",
       "      <td>1.000</td>\n",
       "      <td>17.0</td>\n",
       "    </tr>\n",
       "    <tr>\n",
       "      <th>1</th>\n",
       "      <td>16/12/2006</td>\n",
       "      <td>17:25:00</td>\n",
       "      <td>5.360</td>\n",
       "      <td>0.436</td>\n",
       "      <td>233.630</td>\n",
       "      <td>23.000</td>\n",
       "      <td>0.000</td>\n",
       "      <td>1.000</td>\n",
       "      <td>16.0</td>\n",
       "    </tr>\n",
       "    <tr>\n",
       "      <th>2</th>\n",
       "      <td>16/12/2006</td>\n",
       "      <td>17:26:00</td>\n",
       "      <td>5.374</td>\n",
       "      <td>0.498</td>\n",
       "      <td>233.290</td>\n",
       "      <td>23.000</td>\n",
       "      <td>0.000</td>\n",
       "      <td>2.000</td>\n",
       "      <td>17.0</td>\n",
       "    </tr>\n",
       "    <tr>\n",
       "      <th>3</th>\n",
       "      <td>16/12/2006</td>\n",
       "      <td>17:27:00</td>\n",
       "      <td>5.388</td>\n",
       "      <td>0.502</td>\n",
       "      <td>233.740</td>\n",
       "      <td>23.000</td>\n",
       "      <td>0.000</td>\n",
       "      <td>1.000</td>\n",
       "      <td>17.0</td>\n",
       "    </tr>\n",
       "    <tr>\n",
       "      <th>4</th>\n",
       "      <td>16/12/2006</td>\n",
       "      <td>17:28:00</td>\n",
       "      <td>3.666</td>\n",
       "      <td>0.528</td>\n",
       "      <td>235.680</td>\n",
       "      <td>15.800</td>\n",
       "      <td>0.000</td>\n",
       "      <td>1.000</td>\n",
       "      <td>17.0</td>\n",
       "    </tr>\n",
       "  </tbody>\n",
       "</table>\n",
       "</div>"
      ],
      "text/plain": [
       "         Date      Time Global_active_power Global_reactive_power  Voltage  \\\n",
       "0  16/12/2006  17:24:00               4.216                 0.418  234.840   \n",
       "1  16/12/2006  17:25:00               5.360                 0.436  233.630   \n",
       "2  16/12/2006  17:26:00               5.374                 0.498  233.290   \n",
       "3  16/12/2006  17:27:00               5.388                 0.502  233.740   \n",
       "4  16/12/2006  17:28:00               3.666                 0.528  235.680   \n",
       "\n",
       "  Global_intensity Sub_metering_1 Sub_metering_2  Sub_metering_3  \n",
       "0           18.400          0.000          1.000            17.0  \n",
       "1           23.000          0.000          1.000            16.0  \n",
       "2           23.000          0.000          2.000            17.0  \n",
       "3           23.000          0.000          1.000            17.0  \n",
       "4           15.800          0.000          1.000            17.0  "
      ]
     },
     "execution_count": 6,
     "metadata": {},
     "output_type": "execute_result"
    }
   ],
   "source": [
    "data = pd.read_csv(\"dataset.txt\",sep=\";\")\n",
    "data.head()"
   ]
  },
  {
   "cell_type": "code",
   "execution_count": 7,
   "id": "2e07e4fe",
   "metadata": {},
   "outputs": [],
   "source": [
    "missing = ['Sub_metering_3']\n",
    "for i in missing:\n",
    "    data.loc[data.loc[:,i].isnull(),i]=data.loc[:,i].mean()"
   ]
  },
  {
   "cell_type": "code",
   "execution_count": 8,
   "id": "b2ed3b78",
   "metadata": {},
   "outputs": [],
   "source": [
    "data['Date'] = data['Date'].astype(str)\n",
    "data['Time'] = data['Time'].astype(str)\n",
    "data.replace(['?', 'nan', np.nan], -1, inplace=True) \n",
    "num_col= ['Global_active_power', 'Global_reactive_power', 'Voltage', \n",
    "           'Global_intensity', 'Sub_metering_1', 'Sub_metering_2', 'Sub_metering_3']\n",
    "for i in num_col:\n",
    "    data[i] = pd.to_numeric(data[i])"
   ]
  },
  {
   "cell_type": "code",
   "execution_count": 9,
   "id": "56c8ca08",
   "metadata": {},
   "outputs": [],
   "source": [
    "# Filling nan and all other illegal values with mean\n",
    "\n",
    "for i in num_col:\n",
    "    mean_ = data.loc[:,i].mean()\n",
    "    data.loc[data.loc[:,i] == -1,i]=mean_"
   ]
  },
  {
   "cell_type": "code",
   "execution_count": 10,
   "id": "bf1ed863",
   "metadata": {},
   "outputs": [
    {
     "name": "stdout",
     "output_type": "stream",
     "text": [
      "<class 'pandas.core.frame.DataFrame'>\n",
      "RangeIndex: 2075259 entries, 0 to 2075258\n",
      "Data columns (total 9 columns):\n",
      " #   Column                 Dtype  \n",
      "---  ------                 -----  \n",
      " 0   Date                   object \n",
      " 1   Time                   object \n",
      " 2   Global_active_power    float64\n",
      " 3   Global_reactive_power  float64\n",
      " 4   Voltage                float64\n",
      " 5   Global_intensity       float64\n",
      " 6   Sub_metering_1         float64\n",
      " 7   Sub_metering_2         float64\n",
      " 8   Sub_metering_3         float64\n",
      "dtypes: float64(7), object(2)\n",
      "memory usage: 142.5+ MB\n"
     ]
    }
   ],
   "source": [
    "data.info()"
   ]
  },
  {
   "cell_type": "code",
   "execution_count": 11,
   "id": "c93f6534",
   "metadata": {},
   "outputs": [],
   "source": [
    "def convert(x):\n",
    "    l = list(x.split('/'))\n",
    "    return l[2]+\"-\"+l[1]+\"-\"+l[0]"
   ]
  },
  {
   "cell_type": "code",
   "execution_count": 12,
   "id": "baa75209",
   "metadata": {},
   "outputs": [
    {
     "data": {
      "text/html": [
       "<div>\n",
       "<style scoped>\n",
       "    .dataframe tbody tr th:only-of-type {\n",
       "        vertical-align: middle;\n",
       "    }\n",
       "\n",
       "    .dataframe tbody tr th {\n",
       "        vertical-align: top;\n",
       "    }\n",
       "\n",
       "    .dataframe thead th {\n",
       "        text-align: right;\n",
       "    }\n",
       "</style>\n",
       "<table border=\"1\" class=\"dataframe\">\n",
       "  <thead>\n",
       "    <tr style=\"text-align: right;\">\n",
       "      <th></th>\n",
       "      <th>Date</th>\n",
       "      <th>Time</th>\n",
       "      <th>Global_active_power</th>\n",
       "      <th>Global_reactive_power</th>\n",
       "      <th>Voltage</th>\n",
       "      <th>Global_intensity</th>\n",
       "      <th>Sub_metering_1</th>\n",
       "      <th>Sub_metering_2</th>\n",
       "      <th>Sub_metering_3</th>\n",
       "    </tr>\n",
       "  </thead>\n",
       "  <tbody>\n",
       "    <tr>\n",
       "      <th>0</th>\n",
       "      <td>2006-12-16</td>\n",
       "      <td>17:24:00</td>\n",
       "      <td>4.216</td>\n",
       "      <td>0.418</td>\n",
       "      <td>234.84</td>\n",
       "      <td>18.4</td>\n",
       "      <td>0.0</td>\n",
       "      <td>1.0</td>\n",
       "      <td>17.0</td>\n",
       "    </tr>\n",
       "    <tr>\n",
       "      <th>1</th>\n",
       "      <td>2006-12-16</td>\n",
       "      <td>17:25:00</td>\n",
       "      <td>5.360</td>\n",
       "      <td>0.436</td>\n",
       "      <td>233.63</td>\n",
       "      <td>23.0</td>\n",
       "      <td>0.0</td>\n",
       "      <td>1.0</td>\n",
       "      <td>16.0</td>\n",
       "    </tr>\n",
       "    <tr>\n",
       "      <th>2</th>\n",
       "      <td>2006-12-16</td>\n",
       "      <td>17:26:00</td>\n",
       "      <td>5.374</td>\n",
       "      <td>0.498</td>\n",
       "      <td>233.29</td>\n",
       "      <td>23.0</td>\n",
       "      <td>0.0</td>\n",
       "      <td>2.0</td>\n",
       "      <td>17.0</td>\n",
       "    </tr>\n",
       "    <tr>\n",
       "      <th>3</th>\n",
       "      <td>2006-12-16</td>\n",
       "      <td>17:27:00</td>\n",
       "      <td>5.388</td>\n",
       "      <td>0.502</td>\n",
       "      <td>233.74</td>\n",
       "      <td>23.0</td>\n",
       "      <td>0.0</td>\n",
       "      <td>1.0</td>\n",
       "      <td>17.0</td>\n",
       "    </tr>\n",
       "    <tr>\n",
       "      <th>4</th>\n",
       "      <td>2006-12-16</td>\n",
       "      <td>17:28:00</td>\n",
       "      <td>3.666</td>\n",
       "      <td>0.528</td>\n",
       "      <td>235.68</td>\n",
       "      <td>15.8</td>\n",
       "      <td>0.0</td>\n",
       "      <td>1.0</td>\n",
       "      <td>17.0</td>\n",
       "    </tr>\n",
       "  </tbody>\n",
       "</table>\n",
       "</div>"
      ],
      "text/plain": [
       "         Date      Time  Global_active_power  Global_reactive_power  Voltage  \\\n",
       "0  2006-12-16  17:24:00                4.216                  0.418   234.84   \n",
       "1  2006-12-16  17:25:00                5.360                  0.436   233.63   \n",
       "2  2006-12-16  17:26:00                5.374                  0.498   233.29   \n",
       "3  2006-12-16  17:27:00                5.388                  0.502   233.74   \n",
       "4  2006-12-16  17:28:00                3.666                  0.528   235.68   \n",
       "\n",
       "   Global_intensity  Sub_metering_1  Sub_metering_2  Sub_metering_3  \n",
       "0              18.4             0.0             1.0            17.0  \n",
       "1              23.0             0.0             1.0            16.0  \n",
       "2              23.0             0.0             2.0            17.0  \n",
       "3              23.0             0.0             1.0            17.0  \n",
       "4              15.8             0.0             1.0            17.0  "
      ]
     },
     "execution_count": 12,
     "metadata": {},
     "output_type": "execute_result"
    }
   ],
   "source": [
    "data['Date'] = data['Date'].map(lambda x : convert(x))\n",
    "data.head()"
   ]
  },
  {
   "cell_type": "code",
   "execution_count": null,
   "id": "2ac93280",
   "metadata": {},
   "outputs": [],
   "source": [
    "data['Date_and_Time'] = data['Date'].str.cat(data['Time'],sep = \" \")\n",
    "data = data.drop(['Date','Time'],axis = 1)\n",
    "data.head()"
   ]
  },
  {
   "cell_type": "code",
   "execution_count": null,
   "id": "4dfbd105",
   "metadata": {},
   "outputs": [],
   "source": [
    "#Resampling such that every row contains the averaged values of respective columns in a range of an hour\n",
    "data['Date_and_Time'] = pd.to_datetime(data['Date_and_Time'])\n",
    "data = data.set_index('Date_and_Time').resample('60min').mean()\n",
    "data.info()\n",
    "data.head()"
   ]
  },
  {
   "cell_type": "code",
   "execution_count": null,
   "id": "4adbecc0",
   "metadata": {},
   "outputs": [],
   "source": [
    "# splitting data into training and testing data\n",
    "Y_data = data['Global_active_power']\n",
    "X_data = data.drop(['Global_active_power'],axis=1)\n",
    "X_train,X_test,Y_train,Y_test = train_test_split(X_data,Y_data,test_size = 0.3)"
   ]
  },
  {
   "cell_type": "code",
   "execution_count": null,
   "id": "37bb9acd",
   "metadata": {},
   "outputs": [],
   "source": [
    "#Visualization of Loss vs epochs\n",
    "\n",
    "#For training and validation\n",
    "def validation_vs_training(model_data):\n",
    "    plt.figure(figsize=(6,4))\n",
    "    plt.xlabel('epochs')\n",
    "    plt.ylabel('RMSE loss')\n",
    "    print(type(model_data.history))\n",
    "    for k,v in model_data.history.items():\n",
    "        print(k,v)\n",
    "    l1=[math.sqrt(x) for x in model_data.history['loss']]\n",
    "    l2=[math.sqrt(x) for x in model_data.history['val_loss']]\n",
    "    plt.plot(l1,label='Training RMSE loss')\n",
    "    plt.plot(l2,label = 'Validation RMSE loss')\n",
    "    plt.legend(loc='best')\n",
    "    plt.show()\n",
    "\n",
    "    \n",
    "# Learning curves \n",
    "def training_loss_curves(model_data):\n",
    "    pd.DataFrame(model_data.history).plot(figsize=(20, 8))\n",
    "    plt.title('Learning curves')\n",
    "    plt.gca().set_ylim(0, 1)\n",
    "    plt.show()\n"
   ]
  },
  {
   "cell_type": "markdown",
   "id": "ad8c7732",
   "metadata": {},
   "source": [
    "### 1.Model with one hidden layer\n",
    "### Optimizer = SGD\n",
    "### Activation Function = 'Sigmoid'"
   ]
  },
  {
   "cell_type": "code",
   "execution_count": null,
   "id": "ec03535d",
   "metadata": {},
   "outputs": [],
   "source": [
    "\n",
    "def ann_1(no_of_units):\n",
    "    ann = Sequential(\n",
    "                [\n",
    "                    Dense(no_of_units,activation='sigmoid'),\n",
    "                    Dense(1,activation = 'linear')\n",
    "                ])\n",
    "    ann.compile(optimizer ='SGD',loss='mse',metrics=['mae',tf.keras.metrics.RootMeanSquaredError()])\n",
    "    model_store = ann.fit(X_train,Y_train,\n",
    "              epochs=10,\n",
    "              batch_size=128,\n",
    "              verbose=0,\n",
    "              validation_split=0.2)\n",
    "    ann.summary()\n",
    "    training_loss_curves(model_store)\n",
    "    validation_vs_training(model_store)\n",
    "    res = ann.evaluate(X_test, Y_test, batch_size=128)\n",
    "    pred_values= ann.predict(X_test)\n",
    "    print(\"r2 score :\"+str(skm.r2_score(Y_test,pred_values)))"
   ]
  },
  {
   "cell_type": "code",
   "execution_count": null,
   "id": "208b1377",
   "metadata": {},
   "outputs": [],
   "source": [
    "ann_1(16)\n",
    "ann_1(32)\n",
    "ann_1(64)\n",
    "ann_1(128)"
   ]
  },
  {
   "cell_type": "markdown",
   "id": "cec80475",
   "metadata": {},
   "source": [
    "### 2. Model with two hidden layer\n",
    "### Optimizer = SGD\n",
    "### Activation Function = 'Sigmoid'\n"
   ]
  },
  {
   "cell_type": "code",
   "execution_count": null,
   "id": "dabe981d",
   "metadata": {},
   "outputs": [],
   "source": [
    "def ann_2(no_of_units1,no_of_units2):\n",
    "    ann= Sequential(\n",
    "                [\n",
    "                    Dense(no_of_units1,activation='sigmoid'),\n",
    "                    Dense(no_of_units2,activation='sigmoid'),\n",
    "                    Dense(1,activation = 'linear')\n",
    "                ])\n",
    "    ann.compile(optimizer ='SGD',loss='mse',metrics=['mae',tf.keras.metrics.RootMeanSquaredError()])\n",
    "    model_store = ann.fit(X_train,Y_train,\n",
    "              epochs=10,\n",
    "              batch_size=128,\n",
    "              verbose=0,\n",
    "              validation_split=0.2)\n",
    "    ann.summary()\n",
    "    training_loss_curves(model_store)\n",
    "    validation_vs_training(model_store)\n",
    "    res = ann.evaluate(X_test, Y_test, batch_size=128)\n",
    "    pred_values= ann.predict(X_test)\n",
    "    print(\"r2 score :\"+str(skm.r2_score(Y_test,pred_values)))"
   ]
  },
  {
   "cell_type": "code",
   "execution_count": null,
   "id": "24b5e49b",
   "metadata": {},
   "outputs": [],
   "source": [
    "ann_2(16,16)\n",
    "ann_2(32,32)\n",
    "ann_2(64,64)\n",
    "ann_2(128,128)"
   ]
  },
  {
   "cell_type": "markdown",
   "id": "c5c2db67",
   "metadata": {},
   "source": [
    "### 3. Model with three hidden layers \n",
    "### Optimizer = SGD\n",
    "### Activation function = 'Sigmoid'"
   ]
  },
  {
   "cell_type": "code",
   "execution_count": null,
   "id": "f2996401",
   "metadata": {},
   "outputs": [],
   "source": [
    "def ann_3(no_of_units1, no_of_units2, no_of_units3):\n",
    "    ann= Sequential(\n",
    "                [\n",
    "                    Dense(no_of_units1,activation='sigmoid'),\n",
    "                    Dense(no_of_units2,activation='sigmoid'),\n",
    "                    Dense(no_of_units3,activation='sigmoid'),\n",
    "                    Dense(1,activation = 'linear')\n",
    "                ])\n",
    "    ann.compile(optimizer ='SGD',loss='mse',metrics=['mae',tf.keras.metrics.RootMeanSquaredError()])\n",
    "    model_store = ann.fit(X_train,Y_train,\n",
    "              epochs=10,\n",
    "              batch_size=128,\n",
    "              verbose=0,\n",
    "              validation_split=0.2)\n",
    "    ann.summary()\n",
    "    training_loss_curves(model_store)\n",
    "    validation_vs_training(model_store)\n",
    "    res = ann.evaluate(X_test, Y_test, batch_size=128)\n",
    "    pred_values= ann.predict(X_test)\n",
    "    print(\"r2 score :\"+str(skm.r2_score(Y_test,pred_values)))\n",
    "    \n",
    "    "
   ]
  },
  {
   "cell_type": "code",
   "execution_count": null,
   "id": "97711274",
   "metadata": {},
   "outputs": [],
   "source": [
    "ann_3(16,16,16)\n",
    "print(\"###############################################################\")\n",
    "ann_3(32,32,32)\n",
    "print(\"###############################################################\")\n",
    "ann_3(64,64,64)\n",
    "print(\"###############################################################\")\n",
    "ann_3(128,128,128)\n"
   ]
  },
  {
   "cell_type": "markdown",
   "id": "c37a948f",
   "metadata": {},
   "source": [
    "### 4. Model with 1 hidden layer\n",
    "### Optimizer = SGD\n",
    "### Activation Function = ReLU"
   ]
  },
  {
   "cell_type": "code",
   "execution_count": null,
   "id": "b9123c82",
   "metadata": {},
   "outputs": [],
   "source": [
    "\n",
    "def ann_4(no_of_units1):\n",
    "    ann= Sequential(\n",
    "                [\n",
    "                    Dense(no_of_units1,activation='relu'),\n",
    "                    Dense(1,activation = 'linear')\n",
    "                ])\n",
    "    ann.compile(optimizer ='SGD',loss='mse',metrics=['mae',tf.keras.metrics.RootMeanSquaredError()])\n",
    "    model_store = ann.fit(X_train,Y_train,\n",
    "              epochs=10,\n",
    "              batch_size=128,\n",
    "              verbose=0,\n",
    "              validation_split=0.2)\n",
    "    ann.summary()\n",
    "    training_loss_curves(model_store)\n",
    "    validation_vs_training(model_store)\n",
    "    res = ann.evaluate(X_test, Y_test, batch_size=128)\n",
    "    pred_values= ann.predict(X_test)\n",
    "    print(\"r2 score :\"+str(skm.r2_score(Y_test,pred_values)))\n",
    "    \n",
    "\n"
   ]
  },
  {
   "cell_type": "code",
   "execution_count": null,
   "id": "9aa8b6e9",
   "metadata": {},
   "outputs": [],
   "source": [
    "ann_4(16)\n",
    "print(\"####################################################################\")\n",
    "ann_4(32)\n",
    "print(\"####################################################################\")\n",
    "ann_4(64)\n",
    "print(\"####################################################################\")\n",
    "ann_4(128)\n"
   ]
  },
  {
   "cell_type": "markdown",
   "id": "d442d978",
   "metadata": {},
   "source": [
    "### 5. Model with 2  hidden layers\n",
    "### Optimizer = SGD\n",
    "### Activation function = ReLU"
   ]
  },
  {
   "cell_type": "code",
   "execution_count": null,
   "id": "8267bcc7",
   "metadata": {},
   "outputs": [],
   "source": [
    "\n",
    "def ann_5(no_of_units1,no_of_units2):\n",
    "    ann= Sequential(\n",
    "                [\n",
    "                    Dense(no_of_units1,activation='relu'),\n",
    "                    Dense(no_of_units2,activation = 'relu'),\n",
    "                    Dense(1,activation = 'linear')\n",
    "                ])\n",
    "    ann.compile(optimizer ='SGD',loss='mse',metrics=['mae',tf.keras.metrics.RootMeanSquaredError()])\n",
    "    model_store = ann.fit(X_train,Y_train,\n",
    "              epochs=10,\n",
    "              batch_size=128,\n",
    "              verbose=0,\n",
    "              validation_split=0.2)\n",
    "    ann.summary()\n",
    "    training_loss_curves(model_store)\n",
    "    validation_vs_training(model_store)\n",
    "    res = ann.evaluate(X_test, Y_test, batch_size=128)\n",
    "    pred_values= ann.predict(X_test)\n",
    "    print(\"r2 score :\"+str(skm.r2_score(Y_test,pred_values)))\n",
    "    \n",
    "    "
   ]
  },
  {
   "cell_type": "code",
   "execution_count": null,
   "id": "f622acb8",
   "metadata": {},
   "outputs": [],
   "source": [
    "ann_5(16,16)\n",
    "print(\"############################################################################\")\n",
    "ann_5(32,32)\n",
    "print(\"############################################################################\")\n",
    "ann_5(64,64)\n",
    "print(\"############################################################################\")\n",
    "ann_5(128,128)"
   ]
  },
  {
   "cell_type": "markdown",
   "id": "b4ada757",
   "metadata": {},
   "source": [
    "### 6. Model with 3  hidden layers\n",
    "### Optimizer = SGD\n",
    "### Activation function = ReLU"
   ]
  },
  {
   "cell_type": "code",
   "execution_count": null,
   "id": "ec86a2a3",
   "metadata": {},
   "outputs": [],
   "source": [
    "def ann_6(no_of_units1,no_of_units2,no_of_units3):\n",
    "    ann= Sequential(\n",
    "                [\n",
    "                    Dense(no_of_units1,activation='relu'),\n",
    "                    Dense(no_of_units2,activation = 'relu'),\n",
    "                    Dense(no_of_units3,activation='relu'),\n",
    "                    Dense(1,activation = 'linear')\n",
    "                ])\n",
    "    ann.compile(optimizer ='SGD',loss='mse',metrics=['mae',tf.keras.metrics.RootMeanSquaredError()])\n",
    "    model_store = ann.fit(X_train,Y_train,\n",
    "              epochs=10,\n",
    "              batch_size=128,\n",
    "              verbose=0,\n",
    "              validation_split=0.2)\n",
    "    ann.summary()\n",
    "    training_loss_curves(model_store)\n",
    "    validation_vs_training(model_store)\n",
    "    res = ann.evaluate(X_test, Y_test, batch_size=128)\n",
    "    pred_values= ann.predict(X_test)\n",
    "    print(\"r2 score :\"+str(skm.r2_score(Y_test,pred_values)))"
   ]
  },
  {
   "cell_type": "code",
   "execution_count": null,
   "id": "fd4082d4",
   "metadata": {},
   "outputs": [],
   "source": [
    "ann_6(16,16,16)\n",
    "print('####################################################################')\n",
    "ann_6(32,32,32)\n",
    "print('####################################################################')\n",
    "ann_6(64,64,64)\n",
    "print('####################################################################')\n",
    "ann_6(128,128,128)"
   ]
  },
  {
   "cell_type": "markdown",
   "id": "68b03f95",
   "metadata": {},
   "source": [
    "### 7.  Model with 1 hidden layer\n",
    "###     Optimizer = 'Adam'\n",
    "###     Activation function = 'sigmoid', 'relu'\n",
    "###     No of units = 16,32,64,128"
   ]
  },
  {
   "cell_type": "code",
   "execution_count": null,
   "id": "8c038478",
   "metadata": {},
   "outputs": [],
   "source": [
    "def ann_7(no_of_units1,activation_func):\n",
    "    print(\"No of units : \"+ str(no_of_units1)+\",  Activation function : \"+activation_func)\n",
    "    ann= Sequential(\n",
    "                [\n",
    "                    Dense(no_of_units1,activation=activation_func),\n",
    "                    Dense(1,activation = 'linear')\n",
    "                ])\n",
    "    ann.compile(optimizer ='Adam',loss='mse',metrics=['mae',tf.keras.metrics.RootMeanSquaredError()])\n",
    "    model_store = ann.fit(X_train,Y_train,\n",
    "              epochs=10,\n",
    "              batch_size=128,\n",
    "              verbose=0,\n",
    "              validation_split=0.2)\n",
    "    ann.summary()\n",
    "    training_loss_curves(model_store)\n",
    "    validation_vs_training(model_store)\n",
    "    res = ann.evaluate(X_test, Y_test, batch_size=128)\n",
    "    pred_values= ann.predict(X_test)\n",
    "    print(\"r2 score :\"+str(skm.r2_score(Y_test,pred_values)))"
   ]
  },
  {
   "cell_type": "code",
   "execution_count": null,
   "id": "811ab509",
   "metadata": {},
   "outputs": [],
   "source": [
    "activation_func_list = ['sigmoid','relu']\n",
    "no_of_units_list = [16,32,64,128]\n",
    "for i in activation_func_list:\n",
    "    for j in no_of_units_list:\n",
    "        ann_7(j,i)\n",
    "        print(\"########################################################################################\")\n"
   ]
  },
  {
   "cell_type": "markdown",
   "id": "687de885",
   "metadata": {},
   "source": [
    "### 8.  Model with 2 hidden layer\n",
    "###     Optimizer = 'Adam'\n",
    "###     Activation function = 'sigmoid', 'relu'\n",
    "###     No of units = 16,32,64,128"
   ]
  },
  {
   "cell_type": "code",
   "execution_count": null,
   "id": "5d76ab1c",
   "metadata": {},
   "outputs": [],
   "source": [
    "def ann_8(no_of_units1,no_of_units2,activation_func):\n",
    "    print(\"No of units : \"+ str(no_of_units1)+\",  Activation function : \"+activation_func)\n",
    "    ann= Sequential(\n",
    "                [\n",
    "                    Dense(no_of_units1,activation=activation_func),\n",
    "                    Dense(no_of_units2,activation=activation_func),\n",
    "                    Dense(1,activation = 'linear')\n",
    "                ])\n",
    "    ann.compile(optimizer ='Adam',loss='mse',metrics=['mae',tf.keras.metrics.RootMeanSquaredError()])\n",
    "    model_store = ann.fit(X_train,Y_train,\n",
    "              epochs=10,\n",
    "              batch_size=128,\n",
    "              verbose=0,\n",
    "              validation_split=0.2)\n",
    "    ann.summary()\n",
    "    training_loss_curves(model_store)\n",
    "    validation_vs_training(model_store)\n",
    "    res = ann.evaluate(X_test, Y_test, batch_size=128)\n",
    "    pred_values= ann.predict(X_test)\n",
    "    print(\"r2 score :\"+str(skm.r2_score(Y_test,pred_values)))"
   ]
  },
  {
   "cell_type": "code",
   "execution_count": null,
   "id": "5533c214",
   "metadata": {},
   "outputs": [],
   "source": [
    "activation_func_list = ['sigmoid','relu']\n",
    "no_of_units_list = [16,32,64,128]\n",
    "for i in activation_func_list:\n",
    "    for j in no_of_units_list:\n",
    "        ann_8(j,j,i)\n",
    "        print(\"########################################################################################\")"
   ]
  },
  {
   "cell_type": "markdown",
   "id": "cf83c012",
   "metadata": {},
   "source": [
    "### 9.  Model with 3 hidden layer\n",
    "###     Optimizer = 'Adam'\n",
    "###     Activation function = 'sigmoid', 'relu'\n",
    "###     No of units = 16,32,64,128"
   ]
  },
  {
   "cell_type": "code",
   "execution_count": null,
   "id": "f555fe36",
   "metadata": {},
   "outputs": [],
   "source": [
    "def ann_9(no_of_units1,no_of_units2,no_of_units3,activation_func):\n",
    "    print(\"No of units : \"+ str(no_of_units1)+\",  Activation function : \"+activation_func)\n",
    "    ann= Sequential(\n",
    "                [\n",
    "                    Dense(no_of_units1,activation=activation_func),\n",
    "                    Dense(no_of_units2,activation=activation_func),\n",
    "                    Dense(no_of_units3,activation=activation_func),\n",
    "                    Dense(1,activation = 'linear')\n",
    "                ])\n",
    "    ann.compile(optimizer ='Adam',loss='mse',metrics=['mae',tf.keras.metrics.RootMeanSquaredError()])\n",
    "    model_store = ann.fit(X_train,Y_train,\n",
    "              epochs=10,\n",
    "              batch_size=128,\n",
    "              verbose=0,\n",
    "              validation_split=0.2)\n",
    "    ann.summary()\n",
    "    training_loss_curves(model_store)\n",
    "    validation_vs_training(model_store)\n",
    "    res = ann.evaluate(X_test, Y_test, batch_size=128)\n",
    "    pred_values= ann.predict(X_test)\n",
    "    print(\"r2 score :\"+str(skm.r2_score(Y_test,pred_values)))"
   ]
  },
  {
   "cell_type": "code",
   "execution_count": null,
   "id": "feab8e1d",
   "metadata": {},
   "outputs": [],
   "source": [
    "activation_func_list = ['sigmoid','relu']\n",
    "no_of_units_list = [16,32,64,128]\n",
    "for i in activation_func_list:\n",
    "    for j in no_of_units_list:\n",
    "        ann_9(j,j,j,i)\n",
    "        print(\"########################################################################################\")"
   ]
  },
  {
   "cell_type": "markdown",
   "id": "fccff4a3",
   "metadata": {},
   "source": [
    "### 10.  Model with 1 hidden layer\n",
    "###     Optimizer = 'SGD' , 'Adam'\n",
    "###     Activation function = 'sigmoid', 'relu'\n",
    "###     No of units = 16,32,64,128\n",
    "###     Regularization = L2 ( lambda = 0.01)"
   ]
  },
  {
   "cell_type": "code",
   "execution_count": null,
   "id": "bf4388d5",
   "metadata": {},
   "outputs": [],
   "source": [
    "def ann_10(optimizer_algo,no_of_units1,activation_func):\n",
    "    print(\"Optimizer algorithm : \"+ optimizer_algo+\" No of units : \"+ str(no_of_units1)+\",  Activation function : \"+activation_func)\n",
    "    #dense_layer = tf.keras.layers.Dense(units = no_of_units1,activation= activation_func,kernel_regularizer = tf.keras.regularizers.L2(0.01))\n",
    "    ann= Sequential(\n",
    "                [\n",
    "                    Dense(no_of_units1,activation= activation_func,kernel_regularizer = tf.keras.regularizers.L2(0.01)),\n",
    "                    Dense(1,activation = 'linear')\n",
    "                ])\n",
    "    ann.compile(optimizer = optimizer_algo,loss='mse',metrics=['mae',tf.keras.metrics.RootMeanSquaredError()])\n",
    "    model_store = ann.fit(X_train,Y_train,\n",
    "              epochs=10,\n",
    "              batch_size=128,\n",
    "              verbose=0,\n",
    "              validation_split=0.2)\n",
    "    ann.summary()\n",
    "    training_loss_curves(model_store)\n",
    "    validation_vs_training(model_store)\n",
    "    res = ann.evaluate(X_test, Y_test, batch_size=128)\n",
    "    pred_values= ann.predict(X_test)\n",
    "    print(\"r2 score :\"+str(skm.r2_score(Y_test,pred_values)))\n",
    "    "
   ]
  },
  {
   "cell_type": "code",
   "execution_count": null,
   "id": "09461dbb",
   "metadata": {},
   "outputs": [],
   "source": [
    "optimizer_algos = ['SGD','Adam']\n",
    "activation_func_list = ['sigmoid','relu']\n",
    "no_of_units_list = [16,32,64,128]\n",
    "for k in optimizer_algos:\n",
    "    for i in activation_func_list:\n",
    "        for j in no_of_units_list:\n",
    "            ann_10(k,j,i)\n",
    "            print(\"########################################################################################\")"
   ]
  },
  {
   "cell_type": "markdown",
   "id": "4cef17cd",
   "metadata": {},
   "source": [
    "### 11.  Model with 2 hidden layer\n",
    "###     Optimizer = 'SGD' , 'Adam'\n",
    "###     Activation function = 'sigmoid', 'relu'\n",
    "###     No of units = 16,32,64,128\n",
    "###     Regularization = L2 ( lambda = 0.01)"
   ]
  },
  {
   "cell_type": "code",
   "execution_count": null,
   "id": "93917ca0",
   "metadata": {},
   "outputs": [],
   "source": [
    "def ann_11(optimizer_algo,no_of_units1,no_of_units2,activation_func):\n",
    "    print(\"Optimizer algorithm : \"+ optimizer_algo+\" No of units : \"+ str(no_of_units1)+\",  Activation function : \"+activation_func)\n",
    "    #dense_layer = tf.keras.layers.Dense(units = no_of_units1,activation= activation_func,kernel_regularizer = tf.keras.regularizers.L2(0.01))\n",
    "    ann= Sequential(\n",
    "                [\n",
    "                    Dense(no_of_units1,activation= activation_func,kernel_regularizer = tf.keras.regularizers.L2(0.01)),\n",
    "                    Dense(no_of_units2,activation= activation_func,kernel_regularizer = tf.keras.regularizers.L2(0.01)),\n",
    "                    Dense(1,activation = 'linear')\n",
    "                ])\n",
    "    ann.compile(optimizer = optimizer_algo,loss='mse',metrics=['mae',tf.keras.metrics.RootMeanSquaredError()])\n",
    "    model_store = ann.fit(X_train,Y_train,\n",
    "              epochs=10,\n",
    "              batch_size=128,\n",
    "              verbose=0,\n",
    "              validation_split=0.2)\n",
    "    ann.summary()\n",
    "    training_loss_curves(model_store)\n",
    "    validation_vs_training(model_store)\n",
    "    res = ann.evaluate(X_test, Y_test, batch_size=128)\n",
    "    pred_values= ann.predict(X_test)\n",
    "    print(\"r2 score :\"+str(skm.r2_score(Y_test,pred_values)))"
   ]
  },
  {
   "cell_type": "code",
   "execution_count": null,
   "id": "3247e599",
   "metadata": {
    "scrolled": false
   },
   "outputs": [],
   "source": [
    "optimizer_algos = ['SGD','Adam']\n",
    "activation_func_list = ['sigmoid','relu']\n",
    "no_of_units_list = [16,32,64,128]\n",
    "for k in optimizer_algos:\n",
    "    for i in activation_func_list:\n",
    "        for j in no_of_units_list:\n",
    "            ann_11(k,j,j,i)\n",
    "            print(\"########################################################################################\")"
   ]
  },
  {
   "cell_type": "markdown",
   "id": "dbf98c01",
   "metadata": {},
   "source": [
    "### 12.  Model with 3 hidden layer\n",
    "###     Optimizer = 'SGD' , 'Adam'\n",
    "###     Activation function = 'sigmoid', 'relu'\n",
    "###     No of units = 16,32,64,128\n",
    "###     Regularization = L2 ( lambda = 0.01)"
   ]
  },
  {
   "cell_type": "code",
   "execution_count": null,
   "id": "a514e643",
   "metadata": {},
   "outputs": [],
   "source": [
    "def ann_12(optimizer_algo,no_of_units1,no_of_units2,no_of_units3,activation_func):\n",
    "    print(\"Optimizer algorithm : \"+ optimizer_algo+\" No of units : \"+ str(no_of_units1)+\",  Activation function : \"+activation_func)\n",
    "    #dense_layer = tf.keras.layers.Dense(activation= activation_func,kernel_regularizer = tf.keras.regularizers.L2(0.01))\n",
    "    ann= Sequential(\n",
    "                [\n",
    "                    Dense(no_of_units1,activation= activation_func,kernel_regularizer = tf.keras.regularizers.L2(0.01)),\n",
    "                    Dense(no_of_units2,activation= activation_func,kernel_regularizer = tf.keras.regularizers.L2(0.01)),\n",
    "                    Dense(no_of_units3,activation= activation_func,kernel_regularizer = tf.keras.regularizers.L2(0.01)),\n",
    "                    Dense(1,activation = 'linear')\n",
    "                ])\n",
    "    ann.compile(optimizer = optimizer_algo,loss='mse',metrics=['mae',tf.keras.metrics.RootMeanSquaredError()])\n",
    "    model_store = ann.fit(X_train,Y_train,\n",
    "              epochs=10,\n",
    "              batch_size=128,\n",
    "              verbose=0,\n",
    "              validation_split=0.2)\n",
    "    ann.summary()\n",
    "    training_loss_curves(model_store)\n",
    "    validation_vs_training(model_store)\n",
    "    res = ann.evaluate(X_test, Y_test, batch_size=128)\n",
    "    pred_values= ann.predict(X_test)\n",
    "    print(\"r2 score :\"+str(skm.r2_score(Y_test,pred_values)))"
   ]
  },
  {
   "cell_type": "code",
   "execution_count": null,
   "id": "53a29485",
   "metadata": {
    "scrolled": false
   },
   "outputs": [],
   "source": [
    "optimizer_algos = ['SGD','Adam']\n",
    "activation_func_list = ['sigmoid','relu']\n",
    "no_of_units_list = [16,32,64,128]\n",
    "for k in optimizer_algos:\n",
    "    for i in activation_func_list:\n",
    "        for j in no_of_units_list:\n",
    "            ann_12(k,j,j,j,i)\n",
    "            print(\"########################################################################################\")"
   ]
  },
  {
   "cell_type": "code",
   "execution_count": null,
   "id": "61502269",
   "metadata": {},
   "outputs": [],
   "source": []
  }
 ],
 "metadata": {
  "kernelspec": {
   "display_name": "Python 3 (ipykernel)",
   "language": "python",
   "name": "python3"
  },
  "language_info": {
   "codemirror_mode": {
    "name": "ipython",
    "version": 3
   },
   "file_extension": ".py",
   "mimetype": "text/x-python",
   "name": "python",
   "nbconvert_exporter": "python",
   "pygments_lexer": "ipython3",
   "version": "3.9.12"
  }
 },
 "nbformat": 4,
 "nbformat_minor": 5
}
