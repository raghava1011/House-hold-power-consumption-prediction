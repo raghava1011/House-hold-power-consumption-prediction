{
 "cells": [
  {
   "cell_type": "code",
   "execution_count": null,
   "id": "03eb65d5",
   "metadata": {
    "scrolled": false
   },
   "outputs": [],
   "source": [
    "!pip install tensorflow"
   ]
  },
  {
   "cell_type": "code",
   "execution_count": null,
   "id": "bc2b40e0",
   "metadata": {},
   "outputs": [],
   "source": [
    "import random \n",
    "random.seed(123)\n",
    "from math import *\n",
    "import numpy as np\n",
    "import pandas as pd \n",
    "import matplotlib.pyplot as plt\n",
    "import seaborn as sns\n",
    "import math\n",
    "\n",
    "from sklearn.linear_model import LinearRegression, Ridge, Lasso, ElasticNet\n",
    "from sklearn.svm import SVR\n",
    "from sklearn.preprocessing import PolynomialFeatures,MinMaxScaler\n",
    "from sklearn.tree import DecisionTreeRegressor\n",
    "from sklearn.svm import SVR\n",
    "import sklearn.metrics as skm\n",
    "from sklearn.model_selection import train_test_split \n",
    "from sklearn.model_selection import train_test_split\n",
    "import operator as op"
   ]
  },
  {
   "cell_type": "code",
   "execution_count": null,
   "id": "14b45333",
   "metadata": {},
   "outputs": [],
   "source": [
    "import tensorflow as tf\n",
    "from tensorflow.keras.layers import Dense, Dropout, BatchNormalization\n",
    "from tensorflow.keras.models import Sequential"
   ]
  },
  {
   "cell_type": "code",
   "execution_count": null,
   "id": "7843d44d",
   "metadata": {},
   "outputs": [],
   "source": [
    "data = pd.read_csv(\"dataset.txt\",sep=\";\")\n",
    "data.head()"
   ]
  },
  {
   "cell_type": "code",
   "execution_count": null,
   "id": "e8aec246",
   "metadata": {},
   "outputs": [],
   "source": [
    "missing = ['Sub_metering_3']\n",
    "for i in missing:\n",
    "    data.loc[data.loc[:,i].isnull(),i]=data.loc[:,i].mean()"
   ]
  },
  {
   "cell_type": "code",
   "execution_count": null,
   "id": "ec6e8cf7",
   "metadata": {},
   "outputs": [],
   "source": [
    "data['Date'] = data['Date'].astype(str)\n",
    "data['Time'] = data['Time'].astype(str)\n",
    "data.replace(['?', 'nan', np.nan], -1, inplace=True) \n",
    "num_col= ['Global_active_power', 'Global_reactive_power', 'Voltage', \n",
    "           'Global_intensity', 'Sub_metering_1', 'Sub_metering_2', 'Sub_metering_3']\n",
    "for i in num_col:\n",
    "    data[i] = pd.to_numeric(data[i])"
   ]
  },
  {
   "cell_type": "code",
   "execution_count": null,
   "id": "ce473c18",
   "metadata": {},
   "outputs": [],
   "source": [
    "# Filling nan and all other illegal values with mean\n",
    "for i in num_col:\n",
    "    mean_ = data.loc[:,i].mean()\n",
    "    data.loc[data.loc[:,i] == -1,i]=mean_"
   ]
  },
  {
   "cell_type": "code",
   "execution_count": null,
   "id": "638498f5",
   "metadata": {},
   "outputs": [],
   "source": [
    "data.info()"
   ]
  },
  {
   "cell_type": "code",
   "execution_count": null,
   "id": "f620998d",
   "metadata": {},
   "outputs": [],
   "source": [
    "def convert(x):\n",
    "    l = list(x.split('/'))\n",
    "    return l[2]+\"-\"+l[1]+\"-\"+l[0]"
   ]
  },
  {
   "cell_type": "code",
   "execution_count": null,
   "id": "d7999ace",
   "metadata": {},
   "outputs": [],
   "source": [
    "data['Date'] = data['Date'].map(lambda x : convert(x))\n",
    "data.head()"
   ]
  },
  {
   "cell_type": "code",
   "execution_count": null,
   "id": "981d375d",
   "metadata": {},
   "outputs": [],
   "source": [
    "data['Date_and_Time'] = data['Date'].str.cat(data['Time'],sep = \" \")\n",
    "data = data.drop(['Date','Time'],axis = 1)\n",
    "data.head()"
   ]
  },
  {
   "cell_type": "code",
   "execution_count": null,
   "id": "33b823d1",
   "metadata": {},
   "outputs": [],
   "source": [
    "data.shape"
   ]
  },
  {
   "cell_type": "code",
   "execution_count": null,
   "id": "52617db9",
   "metadata": {},
   "outputs": [],
   "source": [
    "data['Date_and_Time'] = pd.to_datetime(data['Date_and_Time'])\n",
    "data = data.set_index('Date_and_Time').resample('60min').mean()\n",
    "data.info()\n",
    "data.head()"
   ]
  },
  {
   "cell_type": "code",
   "execution_count": null,
   "id": "e48b7f99",
   "metadata": {},
   "outputs": [],
   "source": [
    "data.shape"
   ]
  },
  {
   "cell_type": "code",
   "execution_count": null,
   "id": "3db58fed",
   "metadata": {},
   "outputs": [],
   "source": [
    "def series_to_supervised(data, in_cnt=1, out_cnt=1, dropnan=True):\n",
    "    var_cnt = 0\n",
    "    if type(data) is list :\n",
    "        var_cnt = 1\n",
    "    else:\n",
    "        var_cnt= data.shape[1]\n",
    "        \n",
    "    temp_df = pd.DataFrame(data)\n",
    "    cols, col_names = list(), list()\n",
    "    for i in range(in_cnt, 0, -1):\n",
    "        cols.append(temp_df.shift(-i))\n",
    "        col_names += [('var%d(t-%d)' % (j+1, i)) for j in range(var_cnt)]\n",
    "    for i in range(0, out_cnt):\n",
    "        cols.append(temp_df.shift(-i))\n",
    "        if i==0:\n",
    "            col_names += [('var%d(t)' % (j+1)) for j in range(var_cnt)]\n",
    "        else:\n",
    "            col_names += [('var%d(t+%d)' % (j+1)) for j in range(var_cnt)]\n",
    "        \n",
    "        agg = pd.concat(cols, axis=1)\n",
    "        agg.columns = col_names\n",
    "        if dropnan:\n",
    "            agg.dropna(inplace=True)\n",
    "        drop_col = [x for x in range(8,14)]\n",
    "        agg.drop(agg.columns[drop_col],axis=1,inplace = True)\n",
    "        return agg"
   ]
  },
  {
   "cell_type": "code",
   "execution_count": null,
   "id": "6e76f66e",
   "metadata": {},
   "outputs": [],
   "source": [
    "transformed_data = series_to_supervised(data, 1, 1)"
   ]
  },
  {
   "cell_type": "code",
   "execution_count": null,
   "id": "bc527762",
   "metadata": {
    "scrolled": true
   },
   "outputs": [],
   "source": [
    "transformed_data.head()"
   ]
  },
  {
   "cell_type": "code",
   "execution_count": null,
   "id": "9398860e",
   "metadata": {},
   "outputs": [],
   "source": [
    "train_time_cnt = 365*24*3\n",
    "data_values = transformed_data.values\n",
    "train = data_values[:train_time_cnt, :]\n",
    "test = data_values[train_time_cnt:, :]\n",
    "X_train = train[:,:7]\n",
    "Y_train = train[:,7:]\n",
    "X_test = test[:,:7]\n",
    "Y_test = test[:,7:]"
   ]
  },
  {
   "cell_type": "code",
   "execution_count": null,
   "id": "3e16d6c9",
   "metadata": {},
   "outputs": [],
   "source": [
    "#Visualization of Loss vs epochs\n",
    "\n",
    "#For training and validation\n",
    "def validation_vs_training(model_data):\n",
    "    plt.figure(figsize=(6,4))\n",
    "    plt.xlabel('epochs')\n",
    "    plt.ylabel('MSE loss')\n",
    "    print(type(model_data.history))\n",
    "    for k,v in model_data.history.items():\n",
    "        print(k,v)\n",
    "    l1=[math.sqrt(x) for x in model_data.history['loss']]\n",
    "    l2=[math.sqrt(x) for x in model_data.history['val_loss']]\n",
    "    plt.plot(l1,label='Training MSE loss')\n",
    "    plt.plot(l2,label = 'Validation MSE loss')\n",
    "    plt.legend(loc='best')\n",
    "    plt.show()\n",
    "\n",
    "    \n",
    "# Learning curves \n",
    "def training_loss_curves(model_data):\n",
    "    pd.DataFrame(model_data.history).plot(figsize=(20, 8))\n",
    "    plt.title('Learning curves')\n",
    "    plt.gca().set_ylim(0, 1)\n",
    "    plt.show()"
   ]
  },
  {
   "cell_type": "markdown",
   "id": "ee182912",
   "metadata": {},
   "source": [
    "### 1.Model with one hidden layer\n",
    "### Optimizer = SGD\n",
    "### Activation Function = 'Sigmoid'"
   ]
  },
  {
   "cell_type": "code",
   "execution_count": null,
   "id": "c7c44954",
   "metadata": {},
   "outputs": [],
   "source": [
    "def ann_1(no_of_units):\n",
    "    ann = Sequential(\n",
    "                [\n",
    "                    Dense(no_of_units,activation='sigmoid'),\n",
    "                    Dense(1,activation = 'linear')\n",
    "                ])\n",
    "    ann.compile(optimizer ='SGD',loss='mse',metrics=['mae',tf.keras.metrics.RootMeanSquaredError()])\n",
    "    model_store = ann.fit(X_train,Y_train,\n",
    "              epochs=10,\n",
    "              batch_size=128,\n",
    "              verbose=0,\n",
    "              validation_split=0.2)\n",
    "    ann.summary()\n",
    "    training_loss_curves(model_store)\n",
    "    validation_vs_training(model_store)\n",
    "    res = ann.evaluate(X_test, Y_test, batch_size=128)\n",
    "    pred_values= ann.predict(X_test)\n",
    "    print(Y_test)\n",
    "    print(pred_values)\n",
    "    print(\"r2 score :\"+str(skm.r2_score(Y_test,pred_values)))"
   ]
  },
  {
   "cell_type": "code",
   "execution_count": null,
   "id": "46ca7e13",
   "metadata": {
    "scrolled": false
   },
   "outputs": [],
   "source": [
    "ann_1(16)\n",
    "ann_1(32)\n",
    "ann_1(64)\n",
    "ann_1(128)"
   ]
  },
  {
   "cell_type": "markdown",
   "id": "5670d645",
   "metadata": {},
   "source": [
    "### 2. Model with two hidden layer\n",
    "### Optimizer = SGD\n",
    "### Activation Function = 'Sigmoid'"
   ]
  },
  {
   "cell_type": "code",
   "execution_count": null,
   "id": "8bff7a1d",
   "metadata": {},
   "outputs": [],
   "source": [
    "def ann_2(no_of_units1,no_of_units2):\n",
    "    ann= Sequential(\n",
    "                [\n",
    "                    Dense(no_of_units1,activation='sigmoid'),\n",
    "                    Dense(no_of_units2,activation='sigmoid'),\n",
    "                    Dense(1,activation = 'linear')\n",
    "                ])\n",
    "    ann.compile(optimizer ='SGD',loss='mse',metrics=['mae',tf.keras.metrics.RootMeanSquaredError()])\n",
    "    model_store = ann.fit(X_train,Y_train,\n",
    "              epochs=10,\n",
    "              batch_size=128,\n",
    "              verbose=0,\n",
    "              validation_split=0.2)\n",
    "    ann.summary()\n",
    "    training_loss_curves(model_store)\n",
    "    validation_vs_training(model_store)\n",
    "    res = ann.evaluate(X_test, Y_test, batch_size=128)\n",
    "    pred_values= ann.predict(X_test)\n",
    "    print(\"r2 score :\"+str(skm.r2_score(Y_test,pred_values)))"
   ]
  },
  {
   "cell_type": "code",
   "execution_count": null,
   "id": "4d184d5c",
   "metadata": {
    "scrolled": false
   },
   "outputs": [],
   "source": [
    "ann_2(16,16)\n",
    "ann_2(32,32)\n",
    "ann_2(64,64)\n",
    "ann_2(128,128)"
   ]
  },
  {
   "cell_type": "markdown",
   "id": "c71875e2",
   "metadata": {},
   "source": [
    "### 3. Model with three hidden layers \n",
    "### Optimizer = SGD\n",
    "### Activation function = 'Sigmoid'"
   ]
  },
  {
   "cell_type": "code",
   "execution_count": null,
   "id": "1b634d99",
   "metadata": {},
   "outputs": [],
   "source": [
    "def ann_3(no_of_units1, no_of_units2, no_of_units3):\n",
    "    ann= Sequential(\n",
    "                [\n",
    "                    Dense(no_of_units1,activation='sigmoid'),\n",
    "                    Dense(no_of_units2,activation='sigmoid'),\n",
    "                    Dense(no_of_units3,activation='sigmoid'),\n",
    "                    Dense(1,activation = 'linear')\n",
    "                ])\n",
    "    ann.compile(optimizer ='SGD',loss='mse',metrics=['mae',tf.keras.metrics.RootMeanSquaredError()])\n",
    "    model_store = ann.fit(X_train,Y_train,\n",
    "              epochs=10,\n",
    "              batch_size=128,\n",
    "              verbose=0,\n",
    "              validation_split=0.2)\n",
    "    ann.summary()\n",
    "    training_loss_curves(model_store)\n",
    "    validation_vs_training(model_store)\n",
    "    res = ann.evaluate(X_test, Y_test, batch_size=128)\n",
    "    pred_values= ann.predict(X_test)\n",
    "    print(\"r2 score :\"+str(skm.r2_score(Y_test,pred_values)))\n",
    "    "
   ]
  },
  {
   "cell_type": "code",
   "execution_count": null,
   "id": "0a09ccac",
   "metadata": {
    "scrolled": false
   },
   "outputs": [],
   "source": [
    "ann_3(16,16,16)\n",
    "print(\"###############################################################\")\n",
    "ann_3(32,32,32)\n",
    "print(\"###############################################################\")\n",
    "ann_3(64,64,64)\n",
    "print(\"###############################################################\")\n",
    "ann_3(128,128,128)"
   ]
  },
  {
   "cell_type": "markdown",
   "id": "9f2eba4f",
   "metadata": {},
   "source": [
    "### 4. Model with 1 hidden layer\n",
    "### Optimizer = SGD\n",
    "### Activation Function = ReLU"
   ]
  },
  {
   "cell_type": "code",
   "execution_count": null,
   "id": "4bd3a7e8",
   "metadata": {},
   "outputs": [],
   "source": [
    "def ann_4(no_of_units1):\n",
    "    ann= Sequential(\n",
    "                [\n",
    "                    Dense(no_of_units1,activation='relu'),\n",
    "                    Dense(1,activation = 'linear')\n",
    "                ])\n",
    "    ann.compile(optimizer ='SGD',loss='mse',metrics=['mae',tf.keras.metrics.RootMeanSquaredError()])\n",
    "    model_store = ann.fit(X_train,Y_train,\n",
    "              epochs=10,\n",
    "              batch_size=128,\n",
    "              verbose=0,\n",
    "              validation_split=0.2)\n",
    "    ann.summary()\n",
    "    training_loss_curves(model_store)\n",
    "    validation_vs_training(model_store)\n",
    "    res = ann.evaluate(X_test, Y_test, batch_size=128)\n",
    "    pred_values= ann.predict(X_test)\n",
    "    print(\"r2 score :\"+str(skm.r2_score(Y_test,pred_values)))"
   ]
  },
  {
   "cell_type": "code",
   "execution_count": null,
   "id": "56ad37c1",
   "metadata": {
    "scrolled": false
   },
   "outputs": [],
   "source": [
    "ann_4(16)\n",
    "print(\"####################################################################\")\n",
    "ann_4(32)\n",
    "print(\"####################################################################\")\n",
    "ann_4(64)\n",
    "print(\"####################################################################\")\n",
    "ann_4(128)\n"
   ]
  },
  {
   "cell_type": "markdown",
   "id": "acadf614",
   "metadata": {},
   "source": [
    "### 5. Model with 2  hidden layers\n",
    "### Optimizer = SGD\n",
    "### Activation function = ReLU"
   ]
  },
  {
   "cell_type": "code",
   "execution_count": null,
   "id": "71081424",
   "metadata": {},
   "outputs": [],
   "source": [
    "\n",
    "def ann_5(no_of_units1,no_of_units2):\n",
    "    ann= Sequential(\n",
    "                [\n",
    "                    Dense(no_of_units1,activation='relu'),\n",
    "                    Dense(no_of_units2,activation = 'relu'),\n",
    "                    Dense(1,activation = 'linear')\n",
    "                ])\n",
    "    ann.compile(optimizer ='SGD',loss='mse',metrics=['mae',tf.keras.metrics.RootMeanSquaredError()])\n",
    "    model_store = ann.fit(X_train,Y_train,\n",
    "              epochs=10,\n",
    "              batch_size=128,\n",
    "              verbose=0,\n",
    "              validation_split=0.2)\n",
    "    ann.summary()\n",
    "    training_loss_curves(model_store)\n",
    "    validation_vs_training(model_store)\n",
    "    res = ann.evaluate(X_test, Y_test, batch_size=128)\n",
    "    pred_values= ann.predict(X_test)\n",
    "    print(\"r2 score :\"+str(skm.r2_score(Y_test,pred_values)))"
   ]
  },
  {
   "cell_type": "code",
   "execution_count": null,
   "id": "cd13cfa6",
   "metadata": {
    "scrolled": false
   },
   "outputs": [],
   "source": [
    "ann_5(16,16)\n",
    "print(\"############################################################################\")\n",
    "ann_5(32,32)\n",
    "print(\"############################################################################\")\n",
    "ann_5(64,64)\n",
    "print(\"############################################################################\")\n",
    "ann_5(128,128)"
   ]
  },
  {
   "cell_type": "markdown",
   "id": "a7d19f07",
   "metadata": {},
   "source": [
    "### 6. Model with 3  hidden layers\n",
    "### Optimizer = SGD\n",
    "### Activation function = ReLU"
   ]
  },
  {
   "cell_type": "code",
   "execution_count": null,
   "id": "26c41c11",
   "metadata": {},
   "outputs": [],
   "source": [
    "def ann_6(no_of_units1,no_of_units2,no_of_units3):\n",
    "    ann= Sequential(\n",
    "                [\n",
    "                    Dense(no_of_units1,activation='relu'),\n",
    "                    Dense(no_of_units2,activation = 'relu'),\n",
    "                    Dense(no_of_units3,activation='relu'),\n",
    "                    Dense(1,activation = 'linear')\n",
    "                ])\n",
    "    ann.compile(optimizer ='SGD',loss='mse',metrics=['mae',tf.keras.metrics.RootMeanSquaredError()])\n",
    "    model_store = ann.fit(X_train,Y_train,\n",
    "              epochs=10,\n",
    "              batch_size=128,\n",
    "              verbose=0,\n",
    "              validation_split=0.2)\n",
    "    ann.summary()\n",
    "    training_loss_curves(model_store)\n",
    "    validation_vs_training(model_store)\n",
    "    res = ann.evaluate(X_test, Y_test, batch_size=128)\n",
    "    pred_values= ann.predict(X_test)\n",
    "    print(\"r2 score :\"+str(skm.r2_score(Y_test,pred_values)))"
   ]
  },
  {
   "cell_type": "code",
   "execution_count": null,
   "id": "975c9ca1",
   "metadata": {
    "scrolled": false
   },
   "outputs": [],
   "source": [
    "ann_6(16,16,16)\n",
    "print('####################################################################')\n",
    "ann_6(32,32,32)\n",
    "print('####################################################################')\n",
    "ann_6(64,64,64)\n",
    "print('####################################################################')\n",
    "ann_6(128,128,128)"
   ]
  },
  {
   "cell_type": "markdown",
   "id": "fabb097f",
   "metadata": {},
   "source": [
    "### 7.  Model with 1 hidden layer\n",
    "###     Optimizer = 'Adam'\n",
    "###     Activation function = 'sigmoid', 'relu'\n",
    "###     No of units = 16,32,64,128"
   ]
  },
  {
   "cell_type": "code",
   "execution_count": null,
   "id": "ba745f49",
   "metadata": {},
   "outputs": [],
   "source": [
    "def ann_7(no_of_units1,activation_func):\n",
    "    print(\"No of units : \"+ str(no_of_units1)+\",  Activation function : \"+activation_func)\n",
    "    ann= Sequential(\n",
    "                [\n",
    "                    Dense(no_of_units1,activation=activation_func),\n",
    "                    Dense(1,activation = 'linear')\n",
    "                ])\n",
    "    ann.compile(optimizer ='Adam',loss='mse',metrics=['mae',tf.keras.metrics.RootMeanSquaredError()])\n",
    "    model_store = ann.fit(X_train,Y_train,\n",
    "              epochs=10,\n",
    "              batch_size=128,\n",
    "              verbose=0,\n",
    "              validation_split=0.2)\n",
    "    ann.summary()\n",
    "    training_loss_curves(model_store)\n",
    "    validation_vs_training(model_store)\n",
    "    res = ann.evaluate(X_test, Y_test, batch_size=128)\n",
    "    pred_values= ann.predict(X_test)\n",
    "    print(\"r2 score :\"+str(skm.r2_score(Y_test,pred_values)))"
   ]
  },
  {
   "cell_type": "code",
   "execution_count": null,
   "id": "28f8b3a0",
   "metadata": {
    "scrolled": false
   },
   "outputs": [],
   "source": [
    "activation_func_list = ['sigmoid','relu']\n",
    "no_of_units_list = [16,32,64,128]\n",
    "for i in activation_func_list:\n",
    "    for j in no_of_units_list:\n",
    "        ann_7(j,i)\n",
    "        print(\"########################################################################################\")"
   ]
  },
  {
   "cell_type": "markdown",
   "id": "58d68e39",
   "metadata": {},
   "source": [
    "### 8.  Model with 2 hidden layer\n",
    "###     Optimizer = 'Adam'\n",
    "###     Activation function = 'sigmoid', 'relu'\n",
    "###     No of units = 16,32,64,128"
   ]
  },
  {
   "cell_type": "code",
   "execution_count": null,
   "id": "51c74eaa",
   "metadata": {},
   "outputs": [],
   "source": [
    "def ann_8(no_of_units1,no_of_units2,activation_func):\n",
    "    print(\"No of units : \"+ str(no_of_units1)+\",  Activation function : \"+activation_func)\n",
    "    ann= Sequential(\n",
    "                [\n",
    "                    Dense(no_of_units1,activation=activation_func),\n",
    "                    Dense(no_of_units2,activation=activation_func),\n",
    "                    Dense(1,activation = 'linear')\n",
    "                ])\n",
    "    ann.compile(optimizer ='Adam',loss='mse',metrics=['mae',tf.keras.metrics.RootMeanSquaredError()])\n",
    "    model_store = ann.fit(X_train,Y_train,\n",
    "              epochs=40,\n",
    "              batch_size=128,\n",
    "              verbose=0,\n",
    "              validation_split=0.2)\n",
    "    ann.summary()\n",
    "    training_loss_curves(model_store)\n",
    "    validation_vs_training(model_store)\n",
    "    res = ann.evaluate(X_test, Y_test, batch_size=128)\n",
    "    pred_values= ann.predict(X_test)\n",
    "    print(\"r2 score :\"+str(skm.r2_score(Y_test,pred_values)))"
   ]
  },
  {
   "cell_type": "code",
   "execution_count": null,
   "id": "1aa2a83b",
   "metadata": {},
   "outputs": [],
   "source": [
    "ann_8(32,32,'relu')"
   ]
  },
  {
   "cell_type": "code",
   "execution_count": null,
   "id": "b02c7c2c",
   "metadata": {
    "scrolled": false
   },
   "outputs": [],
   "source": [
    "activation_func_list = ['sigmoid','relu']\n",
    "no_of_units_list = [16,32,64,128]\n",
    "for i in activation_func_list:\n",
    "    for j in no_of_units_list:\n",
    "        ann_8(j,j,i)\n",
    "        print(\"########################################################################################\")"
   ]
  },
  {
   "cell_type": "markdown",
   "id": "c04143c6",
   "metadata": {},
   "source": [
    "### 9.  Model with 3 hidden layer\n",
    "###     Optimizer = 'Adam'\n",
    "###     Activation function = 'sigmoid', 'relu'\n",
    "###     No of units = 16,32,64,128"
   ]
  },
  {
   "cell_type": "code",
   "execution_count": null,
   "id": "1551a6c1",
   "metadata": {},
   "outputs": [],
   "source": [
    "def ann_9(no_of_units1,no_of_units2,no_of_units3,activation_func):\n",
    "    print(\"No of units : \"+ str(no_of_units1)+\",  Activation function : \"+activation_func)\n",
    "    ann= Sequential(\n",
    "                [\n",
    "                    Dense(no_of_units1,activation=activation_func),\n",
    "                    Dense(no_of_units2,activation=activation_func),\n",
    "                    Dense(no_of_units3,activation=activation_func),\n",
    "                    Dense(1,activation = 'linear')\n",
    "                ])\n",
    "    ann.compile(optimizer ='Adam',loss='mse',metrics=['mae',tf.keras.metrics.RootMeanSquaredError()])\n",
    "    model_store = ann.fit(X_train,Y_train,\n",
    "              epochs=10,\n",
    "              batch_size=128,\n",
    "              verbose=0,\n",
    "              validation_split=0.2)\n",
    "    ann.summary()\n",
    "    training_loss_curves(model_store)\n",
    "    validation_vs_training(model_store)\n",
    "    res = ann.evaluate(X_test, Y_test, batch_size=128)\n",
    "    pred_values= ann.predict(X_test)\n",
    "    print(\"r2 score :\"+str(skm.r2_score(Y_test,pred_values)))"
   ]
  },
  {
   "cell_type": "code",
   "execution_count": null,
   "id": "43f262e5",
   "metadata": {
    "scrolled": false
   },
   "outputs": [],
   "source": [
    "activation_func_list = ['sigmoid','relu']\n",
    "no_of_units_list = [16,32,64,128]\n",
    "for i in activation_func_list:\n",
    "    for j in no_of_units_list:\n",
    "        ann_9(j,j,j,i)\n",
    "        print(\"########################################################################################\")"
   ]
  },
  {
   "cell_type": "markdown",
   "id": "cf77d09d",
   "metadata": {},
   "source": [
    "### 10.  Model with 1 hidden layer\n",
    "###     Optimizer = 'SGD' , 'Adam'\n",
    "###     Activation function = 'sigmoid', 'relu'\n",
    "###     No of units = 16,32,64,128\n",
    "###     Regularization = L2 ( lambda = 0.01)"
   ]
  },
  {
   "cell_type": "code",
   "execution_count": null,
   "id": "8ec9263a",
   "metadata": {},
   "outputs": [],
   "source": [
    "def ann_10(optimizer_algo,no_of_units1,activation_func):\n",
    "    print(\"Optimizer algorithm : \"+ optimizer_algo+\" No of units : \"+ str(no_of_units1)+\",  Activation function : \"+activation_func)\n",
    "    #dense_layer = tf.keras.layers.Dense(units = no_of_units1,activation= activation_func,kernel_regularizer = tf.keras.regularizers.L2(0.01))\n",
    "    ann= Sequential(\n",
    "                [\n",
    "                    Dense(no_of_units1,activation= activation_func,kernel_regularizer = tf.keras.regularizers.L2(0.01)),\n",
    "                    Dense(1,activation = 'linear')\n",
    "                ])\n",
    "    ann.compile(optimizer = optimizer_algo,loss='mse',metrics=['mae',tf.keras.metrics.RootMeanSquaredError()])\n",
    "    model_store = ann.fit(X_train,Y_train,\n",
    "              epochs=10,\n",
    "              batch_size=128,\n",
    "              verbose=0,\n",
    "              validation_split=0.2)\n",
    "    ann.summary()\n",
    "    training_loss_curves(model_store)\n",
    "    validation_vs_training(model_store)\n",
    "    res = ann.evaluate(X_test, Y_test, batch_size=128)\n",
    "    pred_values= ann.predict(X_test)\n",
    "    print(\"r2 score :\"+str(skm.r2_score(Y_test,pred_values)))\n",
    "    "
   ]
  },
  {
   "cell_type": "code",
   "execution_count": null,
   "id": "30648819",
   "metadata": {
    "scrolled": false
   },
   "outputs": [],
   "source": [
    "optimizer_algos = ['SGD','Adam']\n",
    "activation_func_list = ['sigmoid','relu']\n",
    "no_of_units_list = [16,32,64,128]\n",
    "for k in optimizer_algos:\n",
    "    for i in activation_func_list:\n",
    "        for j in no_of_units_list:\n",
    "            ann_10(k,j,i)\n",
    "            print(\"########################################################################################\")"
   ]
  },
  {
   "cell_type": "markdown",
   "id": "d3fd5a2a",
   "metadata": {},
   "source": [
    "### 11.  Model with 2 hidden layer\n",
    "###     Optimizer = 'SGD' , 'Adam'\n",
    "###     Activation function = 'sigmoid', 'relu'\n",
    "###     No of units = 16,32,64,128\n",
    "###     Regularization = L2 ( lambda = 0.01)"
   ]
  },
  {
   "cell_type": "code",
   "execution_count": null,
   "id": "c65e904b",
   "metadata": {},
   "outputs": [],
   "source": [
    "def ann_11(optimizer_algo,no_of_units1,no_of_units2,activation_func):\n",
    "    print(\"Optimizer algorithm : \"+ optimizer_algo+\" No of units : \"+ str(no_of_units1)+\",  Activation function : \"+activation_func)\n",
    "    #dense_layer = tf.keras.layers.Dense(units = no_of_units1,activation= activation_func,kernel_regularizer = tf.keras.regularizers.L2(0.01))\n",
    "    ann= Sequential(\n",
    "                [\n",
    "                    Dense(no_of_units1,activation= activation_func,kernel_regularizer = tf.keras.regularizers.L2(0.01)),\n",
    "                    Dense(no_of_units2,activation= activation_func,kernel_regularizer = tf.keras.regularizers.L2(0.01)),\n",
    "                    Dense(1,activation = 'linear')\n",
    "                ])\n",
    "    ann.compile(optimizer = optimizer_algo,loss='mse',metrics=['mae',tf.keras.metrics.RootMeanSquaredError()])\n",
    "    model_store = ann.fit(X_train,Y_train,\n",
    "              epochs=10,\n",
    "              batch_size=128,\n",
    "              verbose=0,\n",
    "              validation_split=0.2)\n",
    "    ann.summary()\n",
    "    training_loss_curves(model_store)\n",
    "    validation_vs_training(model_store)\n",
    "    res = ann.evaluate(X_test, Y_test, batch_size=128)\n",
    "    pred_values= ann.predict(X_test)\n",
    "    print(\"r2 score :\"+str(skm.r2_score(Y_test,pred_values)))"
   ]
  },
  {
   "cell_type": "code",
   "execution_count": null,
   "id": "0004e8a8",
   "metadata": {
    "scrolled": false
   },
   "outputs": [],
   "source": [
    "optimizer_algos = ['SGD','Adam']\n",
    "activation_func_list = ['sigmoid','relu']\n",
    "no_of_units_list = [16,32,64,128]\n",
    "for k in optimizer_algos:\n",
    "    for i in activation_func_list:\n",
    "        for j in no_of_units_list:\n",
    "            ann_11(k,j,j,i)\n",
    "            print(\"########################################################################################\")"
   ]
  },
  {
   "cell_type": "markdown",
   "id": "997b3e51",
   "metadata": {},
   "source": [
    "### 12.  Model with 3 hidden layer\n",
    "###     Optimizer = 'SGD' , 'Adam'\n",
    "###     Activation function = 'sigmoid', 'relu'\n",
    "###     No of units = 16,32,64,128\n",
    "###     Regularization = L2 ( lambda = 0.01)"
   ]
  },
  {
   "cell_type": "code",
   "execution_count": null,
   "id": "74f82bac",
   "metadata": {},
   "outputs": [],
   "source": [
    "def ann_12(optimizer_algo,no_of_units1,no_of_units2,no_of_units3,activation_func):\n",
    "    print(\"Optimizer algorithm : \"+ optimizer_algo+\" No of units : \"+ str(no_of_units1)+\",  Activation function : \"+activation_func)\n",
    "    #dense_layer = tf.keras.layers.Dense(activation= activation_func,kernel_regularizer = tf.keras.regularizers.L2(0.01))\n",
    "    ann= Sequential(\n",
    "                [\n",
    "                    Dense(no_of_units1,activation= activation_func,kernel_regularizer = tf.keras.regularizers.L2(0.0001)),\n",
    "                    Dense(no_of_units2,activation= activation_func,kernel_regularizer = tf.keras.regularizers.L2(0.0001)),\n",
    "                    Dense(no_of_units3,activation= activation_func,kernel_regularizer = tf.keras.regularizers.L2(0.0001)),\n",
    "                    Dense(1,activation = 'linear')\n",
    "                ])\n",
    "    ann.compile(optimizer = optimizer_algo,loss='mse',metrics=['mae',tf.keras.metrics.RootMeanSquaredError()])\n",
    "    model_store = ann.fit(X_train,Y_train,\n",
    "              epochs=10,\n",
    "              batch_size=128,\n",
    "              verbose=0,\n",
    "              validation_split=0.2)\n",
    "    ann.summary()\n",
    "    training_loss_curves(model_store)\n",
    "    validation_vs_training(model_store)\n",
    "    res = ann.evaluate(X_test, Y_test, batch_size=128)\n",
    "    pred_values= ann.predict(X_test)\n",
    "    print(\"r2 score :\"+str(skm.r2_score(Y_test,pred_values)))"
   ]
  },
  {
   "cell_type": "code",
   "execution_count": null,
   "id": "8c941f08",
   "metadata": {
    "scrolled": false
   },
   "outputs": [],
   "source": [
    "optimizer_algos = ['SGD','Adam']\n",
    "activation_func_list = ['sigmoid','relu']\n",
    "no_of_units_list = [16,32,64,128]\n",
    "for k in optimizer_algos:\n",
    "    for i in activation_func_list:\n",
    "        for j in no_of_units_list:\n",
    "            ann_12(k,j,j,j,i)\n",
    "            print(\"########################################################################################\")"
   ]
  },
  {
   "cell_type": "code",
   "execution_count": null,
   "id": "7e849000",
   "metadata": {},
   "outputs": [],
   "source": []
  }
 ],
 "metadata": {
  "kernelspec": {
   "display_name": "Python 3 (ipykernel)",
   "language": "python",
   "name": "python3"
  },
  "language_info": {
   "codemirror_mode": {
    "name": "ipython",
    "version": 3
   },
   "file_extension": ".py",
   "mimetype": "text/x-python",
   "name": "python",
   "nbconvert_exporter": "python",
   "pygments_lexer": "ipython3",
   "version": "3.9.12"
  }
 },
 "nbformat": 4,
 "nbformat_minor": 5
}
